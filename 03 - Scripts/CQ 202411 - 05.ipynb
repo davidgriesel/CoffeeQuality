{
 "cells": [
  {
   "cell_type": "markdown",
   "id": "c72e471a-29bb-4ca8-b3e0-3cdbe9b214e0",
   "metadata": {},
   "source": [
    "# Importing libraries"
   ]
  },
  {
   "cell_type": "code",
   "execution_count": 1,
   "id": "6107534c-5f7d-4317-a0e5-80d43801883c",
   "metadata": {},
   "outputs": [],
   "source": [
    "import pandas as pd\n",
    "import numpy as np\n",
    "import seaborn as sns\n",
    "import matplotlib\n",
    "import matplotlib.pyplot as plt\n",
    "import os\n",
    "import sklearn\n",
    "from sklearn.cluster import KMeans\n",
    "import pylab as pl"
   ]
  },
  {
   "cell_type": "markdown",
   "id": "4ea340e0-7560-4883-9b3b-f99361dbb075",
   "metadata": {},
   "source": [
    "# Importing data"
   ]
  },
  {
   "cell_type": "code",
   "execution_count": 2,
   "id": "cd8b00c6-6d2d-41c0-88cd-02e2f680c4ba",
   "metadata": {},
   "outputs": [],
   "source": [
    "# Project path\n",
    "path = r'/Users/davidgriesel/Documents/0 - CareerFoundry/04 - Data Analytics Immersion/06 - Advanced Analytics & Dashboard Design'"
   ]
  },
  {
   "cell_type": "code",
   "execution_count": 3,
   "id": "4189d556-f5eb-416f-a370-76f5d2ea206c",
   "metadata": {},
   "outputs": [],
   "source": [
    "# Dataset\n",
    "df_quality = pd.read_pickle(os.path.join(path, 'Coffee Quality - CQ 202411', '02 - Data', 'Prepared Data','coffee_quality_cleaned.pkl'))"
   ]
  },
  {
   "cell_type": "code",
   "execution_count": 4,
   "id": "a4ec3ecc-caf9-4fa9-9f2d-76746f0588ea",
   "metadata": {},
   "outputs": [],
   "source": [
    "# Configuration\n",
    "%matplotlib inline "
   ]
  },
  {
   "cell_type": "markdown",
   "id": "06d37dc7-5d31-42b7-9424-3b207c51ef29",
   "metadata": {},
   "source": [
    "# Checking data"
   ]
  },
  {
   "cell_type": "code",
   "execution_count": 5,
   "id": "741bfe9c-73c2-4fc6-bc6f-06b5aa260c9c",
   "metadata": {},
   "outputs": [
    {
     "data": {
      "text/plain": [
       "(945, 21)"
      ]
     },
     "execution_count": 5,
     "metadata": {},
     "output_type": "execute_result"
    }
   ],
   "source": [
    "# Dimensions\n",
    "df_quality.shape"
   ]
  },
  {
   "cell_type": "code",
   "execution_count": 6,
   "id": "3631178f-8686-4e65-9455-7e8a937529f1",
   "metadata": {},
   "outputs": [
    {
     "data": {
      "text/html": [
       "<div>\n",
       "<style scoped>\n",
       "    .dataframe tbody tr th:only-of-type {\n",
       "        vertical-align: middle;\n",
       "    }\n",
       "\n",
       "    .dataframe tbody tr th {\n",
       "        vertical-align: top;\n",
       "    }\n",
       "\n",
       "    .dataframe thead th {\n",
       "        text-align: right;\n",
       "    }\n",
       "</style>\n",
       "<table border=\"1\" class=\"dataframe\">\n",
       "  <thead>\n",
       "    <tr style=\"text-align: right;\">\n",
       "      <th></th>\n",
       "      <th>Species</th>\n",
       "      <th>Continent_of_Origin</th>\n",
       "      <th>Country_of_Origin</th>\n",
       "      <th>Harvest_Year</th>\n",
       "      <th>Expiration</th>\n",
       "      <th>Variety</th>\n",
       "      <th>Color</th>\n",
       "      <th>Processing_Method</th>\n",
       "      <th>Aroma</th>\n",
       "      <th>Flavor</th>\n",
       "      <th>...</th>\n",
       "      <th>Acidity</th>\n",
       "      <th>Body</th>\n",
       "      <th>Balance</th>\n",
       "      <th>Uniformity</th>\n",
       "      <th>Clean_Cup</th>\n",
       "      <th>Sweetness</th>\n",
       "      <th>Moisture</th>\n",
       "      <th>Quakers</th>\n",
       "      <th>Category_One_Defects</th>\n",
       "      <th>Category_Two_Defects</th>\n",
       "    </tr>\n",
       "  </thead>\n",
       "  <tbody>\n",
       "    <tr>\n",
       "      <th>1</th>\n",
       "      <td>Arabica</td>\n",
       "      <td>Africa</td>\n",
       "      <td>Ethiopia</td>\n",
       "      <td>2014-01-01</td>\n",
       "      <td>2016-04-03</td>\n",
       "      <td>Other</td>\n",
       "      <td>Green</td>\n",
       "      <td>Washed / Wet</td>\n",
       "      <td>8.75</td>\n",
       "      <td>8.67</td>\n",
       "      <td>...</td>\n",
       "      <td>8.58</td>\n",
       "      <td>8.42</td>\n",
       "      <td>8.42</td>\n",
       "      <td>10.0</td>\n",
       "      <td>10.0</td>\n",
       "      <td>10.0</td>\n",
       "      <td>0.12</td>\n",
       "      <td>0</td>\n",
       "      <td>0</td>\n",
       "      <td>1</td>\n",
       "    </tr>\n",
       "    <tr>\n",
       "      <th>4</th>\n",
       "      <td>Arabica</td>\n",
       "      <td>Africa</td>\n",
       "      <td>Ethiopia</td>\n",
       "      <td>2014-01-01</td>\n",
       "      <td>2016-04-03</td>\n",
       "      <td>Other</td>\n",
       "      <td>Green</td>\n",
       "      <td>Washed / Wet</td>\n",
       "      <td>8.25</td>\n",
       "      <td>8.50</td>\n",
       "      <td>...</td>\n",
       "      <td>8.50</td>\n",
       "      <td>8.42</td>\n",
       "      <td>8.33</td>\n",
       "      <td>10.0</td>\n",
       "      <td>10.0</td>\n",
       "      <td>10.0</td>\n",
       "      <td>0.12</td>\n",
       "      <td>0</td>\n",
       "      <td>0</td>\n",
       "      <td>2</td>\n",
       "    </tr>\n",
       "    <tr>\n",
       "      <th>6</th>\n",
       "      <td>Arabica</td>\n",
       "      <td>South America</td>\n",
       "      <td>Peru</td>\n",
       "      <td>2012-01-01</td>\n",
       "      <td>2013-09-17</td>\n",
       "      <td>Other</td>\n",
       "      <td>Bluish-Green</td>\n",
       "      <td>Washed / Wet</td>\n",
       "      <td>8.42</td>\n",
       "      <td>8.50</td>\n",
       "      <td>...</td>\n",
       "      <td>8.50</td>\n",
       "      <td>8.25</td>\n",
       "      <td>8.25</td>\n",
       "      <td>10.0</td>\n",
       "      <td>10.0</td>\n",
       "      <td>10.0</td>\n",
       "      <td>0.11</td>\n",
       "      <td>0</td>\n",
       "      <td>0</td>\n",
       "      <td>0</td>\n",
       "    </tr>\n",
       "    <tr>\n",
       "      <th>9</th>\n",
       "      <td>Arabica</td>\n",
       "      <td>Africa</td>\n",
       "      <td>Ethiopia</td>\n",
       "      <td>2014-01-01</td>\n",
       "      <td>2016-03-29</td>\n",
       "      <td>Other</td>\n",
       "      <td>Green</td>\n",
       "      <td>Natural / Dry</td>\n",
       "      <td>8.08</td>\n",
       "      <td>8.58</td>\n",
       "      <td>...</td>\n",
       "      <td>8.50</td>\n",
       "      <td>7.67</td>\n",
       "      <td>8.42</td>\n",
       "      <td>10.0</td>\n",
       "      <td>10.0</td>\n",
       "      <td>10.0</td>\n",
       "      <td>0.10</td>\n",
       "      <td>0</td>\n",
       "      <td>0</td>\n",
       "      <td>4</td>\n",
       "    </tr>\n",
       "    <tr>\n",
       "      <th>18</th>\n",
       "      <td>Arabica</td>\n",
       "      <td>Asia</td>\n",
       "      <td>China</td>\n",
       "      <td>2015-01-01</td>\n",
       "      <td>2017-04-07</td>\n",
       "      <td>Catimor</td>\n",
       "      <td>Green</td>\n",
       "      <td>Washed / Wet</td>\n",
       "      <td>8.42</td>\n",
       "      <td>8.25</td>\n",
       "      <td>...</td>\n",
       "      <td>8.17</td>\n",
       "      <td>7.92</td>\n",
       "      <td>8.00</td>\n",
       "      <td>10.0</td>\n",
       "      <td>10.0</td>\n",
       "      <td>10.0</td>\n",
       "      <td>0.10</td>\n",
       "      <td>0</td>\n",
       "      <td>0</td>\n",
       "      <td>0</td>\n",
       "    </tr>\n",
       "  </tbody>\n",
       "</table>\n",
       "<p>5 rows × 21 columns</p>\n",
       "</div>"
      ],
      "text/plain": [
       "    Species Continent_of_Origin Country_of_Origin Harvest_Year Expiration  \\\n",
       "1   Arabica              Africa          Ethiopia   2014-01-01 2016-04-03   \n",
       "4   Arabica              Africa          Ethiopia   2014-01-01 2016-04-03   \n",
       "6   Arabica       South America              Peru   2012-01-01 2013-09-17   \n",
       "9   Arabica              Africa          Ethiopia   2014-01-01 2016-03-29   \n",
       "18  Arabica                Asia             China   2015-01-01 2017-04-07   \n",
       "\n",
       "    Variety         Color Processing_Method  Aroma  Flavor  ...  Acidity  \\\n",
       "1     Other         Green      Washed / Wet   8.75    8.67  ...     8.58   \n",
       "4     Other         Green      Washed / Wet   8.25    8.50  ...     8.50   \n",
       "6     Other  Bluish-Green      Washed / Wet   8.42    8.50  ...     8.50   \n",
       "9     Other         Green     Natural / Dry   8.08    8.58  ...     8.50   \n",
       "18  Catimor         Green      Washed / Wet   8.42    8.25  ...     8.17   \n",
       "\n",
       "    Body  Balance  Uniformity  Clean_Cup  Sweetness  Moisture  Quakers  \\\n",
       "1   8.42     8.42        10.0       10.0       10.0      0.12        0   \n",
       "4   8.42     8.33        10.0       10.0       10.0      0.12        0   \n",
       "6   8.25     8.25        10.0       10.0       10.0      0.11        0   \n",
       "9   7.67     8.42        10.0       10.0       10.0      0.10        0   \n",
       "18  7.92     8.00        10.0       10.0       10.0      0.10        0   \n",
       "\n",
       "    Category_One_Defects  Category_Two_Defects  \n",
       "1                      0                     1  \n",
       "4                      0                     2  \n",
       "6                      0                     0  \n",
       "9                      0                     4  \n",
       "18                     0                     0  \n",
       "\n",
       "[5 rows x 21 columns]"
      ]
     },
     "execution_count": 6,
     "metadata": {},
     "output_type": "execute_result"
    }
   ],
   "source": [
    "# Preview\n",
    "df_quality.head()"
   ]
  },
  {
   "cell_type": "code",
   "execution_count": 9,
   "id": "3b55d4dd-c2b0-4a02-9521-cf43575e7c3b",
   "metadata": {},
   "outputs": [
    {
     "data": {
      "text/plain": [
       "Harvest_Year\n",
       "2012-01-01    261\n",
       "2014-01-01    191\n",
       "2013-01-01    170\n",
       "2015-01-01    142\n",
       "2016-01-01     90\n",
       "2017-01-01     75\n",
       "2011-01-01     15\n",
       "2018-01-01      1\n",
       "Name: count, dtype: int64"
      ]
     },
     "execution_count": 9,
     "metadata": {},
     "output_type": "execute_result"
    }
   ],
   "source": [
    "# Frequency of 'clusters' variable\n",
    "df_quality['Harvest_Year'].value_counts()"
   ]
  },
  {
   "cell_type": "markdown",
   "id": "b3b1a7b0-213b-4e3a-b61d-7888a34d9c03",
   "metadata": {},
   "source": [
    "# Wrangling"
   ]
  },
  {
   "cell_type": "code",
   "execution_count": 31,
   "id": "1127bdb6-ba13-4d43-b540-0e1045175b4e",
   "metadata": {},
   "outputs": [
    {
     "data": {
      "text/html": [
       "<div>\n",
       "<style scoped>\n",
       "    .dataframe tbody tr th:only-of-type {\n",
       "        vertical-align: middle;\n",
       "    }\n",
       "\n",
       "    .dataframe tbody tr th {\n",
       "        vertical-align: top;\n",
       "    }\n",
       "\n",
       "    .dataframe thead th {\n",
       "        text-align: right;\n",
       "    }\n",
       "</style>\n",
       "<table border=\"1\" class=\"dataframe\">\n",
       "  <thead>\n",
       "    <tr style=\"text-align: right;\">\n",
       "      <th></th>\n",
       "      <th>Aroma</th>\n",
       "      <th>Flavor</th>\n",
       "      <th>Aftertaste</th>\n",
       "      <th>Acidity</th>\n",
       "      <th>Body</th>\n",
       "      <th>Balance</th>\n",
       "    </tr>\n",
       "  </thead>\n",
       "  <tbody>\n",
       "    <tr>\n",
       "      <th>Aroma</th>\n",
       "      <td>1.000000</td>\n",
       "      <td>0.687843</td>\n",
       "      <td>0.631839</td>\n",
       "      <td>0.558277</td>\n",
       "      <td>0.511892</td>\n",
       "      <td>0.563619</td>\n",
       "    </tr>\n",
       "    <tr>\n",
       "      <th>Flavor</th>\n",
       "      <td>0.687843</td>\n",
       "      <td>1.000000</td>\n",
       "      <td>0.831670</td>\n",
       "      <td>0.713368</td>\n",
       "      <td>0.653870</td>\n",
       "      <td>0.700998</td>\n",
       "    </tr>\n",
       "    <tr>\n",
       "      <th>Aftertaste</th>\n",
       "      <td>0.631839</td>\n",
       "      <td>0.831670</td>\n",
       "      <td>1.000000</td>\n",
       "      <td>0.654850</td>\n",
       "      <td>0.668807</td>\n",
       "      <td>0.746396</td>\n",
       "    </tr>\n",
       "    <tr>\n",
       "      <th>Acidity</th>\n",
       "      <td>0.558277</td>\n",
       "      <td>0.713368</td>\n",
       "      <td>0.654850</td>\n",
       "      <td>1.000000</td>\n",
       "      <td>0.594074</td>\n",
       "      <td>0.612437</td>\n",
       "    </tr>\n",
       "    <tr>\n",
       "      <th>Body</th>\n",
       "      <td>0.511892</td>\n",
       "      <td>0.653870</td>\n",
       "      <td>0.668807</td>\n",
       "      <td>0.594074</td>\n",
       "      <td>1.000000</td>\n",
       "      <td>0.680047</td>\n",
       "    </tr>\n",
       "    <tr>\n",
       "      <th>Balance</th>\n",
       "      <td>0.563619</td>\n",
       "      <td>0.700998</td>\n",
       "      <td>0.746396</td>\n",
       "      <td>0.612437</td>\n",
       "      <td>0.680047</td>\n",
       "      <td>1.000000</td>\n",
       "    </tr>\n",
       "  </tbody>\n",
       "</table>\n",
       "</div>"
      ],
      "text/plain": [
       "               Aroma    Flavor  Aftertaste   Acidity      Body   Balance\n",
       "Aroma       1.000000  0.687843    0.631839  0.558277  0.511892  0.563619\n",
       "Flavor      0.687843  1.000000    0.831670  0.713368  0.653870  0.700998\n",
       "Aftertaste  0.631839  0.831670    1.000000  0.654850  0.668807  0.746396\n",
       "Acidity     0.558277  0.713368    0.654850  1.000000  0.594074  0.612437\n",
       "Body        0.511892  0.653870    0.668807  0.594074  1.000000  0.680047\n",
       "Balance     0.563619  0.700998    0.746396  0.612437  0.680047  1.000000"
      ]
     },
     "execution_count": 31,
     "metadata": {},
     "output_type": "execute_result"
    }
   ],
   "source": [
    "# Drop categorical columns\n",
    "df_matrix = df_quality.drop(columns = ['Species', 'Continent_of_Origin', 'Country_of_Origin', 'Harvest_Year', 'Expiration', 'Variety', 'Color', 'Processing_Method','Quakers', 'Category_One_Defects', 'Category_Two_Defects', 'Uniformity', 'Clean_Cup', 'Sweetness', 'Moisture'])\n",
    "\n",
    "# Correlation matrix\n",
    "df_matrix.corr()"
   ]
  },
  {
   "cell_type": "code",
   "execution_count": 32,
   "id": "1e6e38f6-cf0e-4f54-8acf-9ac6eaf16034",
   "metadata": {},
   "outputs": [
    {
     "data": {
      "text/html": [
       "<div>\n",
       "<style scoped>\n",
       "    .dataframe tbody tr th:only-of-type {\n",
       "        vertical-align: middle;\n",
       "    }\n",
       "\n",
       "    .dataframe tbody tr th {\n",
       "        vertical-align: top;\n",
       "    }\n",
       "\n",
       "    .dataframe thead th {\n",
       "        text-align: right;\n",
       "    }\n",
       "</style>\n",
       "<table border=\"1\" class=\"dataframe\">\n",
       "  <thead>\n",
       "    <tr style=\"text-align: right;\">\n",
       "      <th></th>\n",
       "      <th>Aroma</th>\n",
       "      <th>Flavor</th>\n",
       "      <th>Aftertaste</th>\n",
       "      <th>Acidity</th>\n",
       "      <th>Body</th>\n",
       "      <th>Balance</th>\n",
       "    </tr>\n",
       "  </thead>\n",
       "  <tbody>\n",
       "    <tr>\n",
       "      <th>count</th>\n",
       "      <td>945.000000</td>\n",
       "      <td>945.000000</td>\n",
       "      <td>945.000000</td>\n",
       "      <td>945.000000</td>\n",
       "      <td>945.000000</td>\n",
       "      <td>945.00000</td>\n",
       "    </tr>\n",
       "    <tr>\n",
       "      <th>mean</th>\n",
       "      <td>7.564984</td>\n",
       "      <td>7.513735</td>\n",
       "      <td>7.392815</td>\n",
       "      <td>7.530582</td>\n",
       "      <td>7.508296</td>\n",
       "      <td>7.50946</td>\n",
       "    </tr>\n",
       "    <tr>\n",
       "      <th>std</th>\n",
       "      <td>0.291573</td>\n",
       "      <td>0.311277</td>\n",
       "      <td>0.319015</td>\n",
       "      <td>0.294613</td>\n",
       "      <td>0.261814</td>\n",
       "      <td>0.32606</td>\n",
       "    </tr>\n",
       "    <tr>\n",
       "      <th>min</th>\n",
       "      <td>5.080000</td>\n",
       "      <td>6.080000</td>\n",
       "      <td>6.170000</td>\n",
       "      <td>5.250000</td>\n",
       "      <td>6.330000</td>\n",
       "      <td>6.08000</td>\n",
       "    </tr>\n",
       "    <tr>\n",
       "      <th>25%</th>\n",
       "      <td>7.420000</td>\n",
       "      <td>7.330000</td>\n",
       "      <td>7.250000</td>\n",
       "      <td>7.330000</td>\n",
       "      <td>7.330000</td>\n",
       "      <td>7.33000</td>\n",
       "    </tr>\n",
       "    <tr>\n",
       "      <th>50%</th>\n",
       "      <td>7.580000</td>\n",
       "      <td>7.500000</td>\n",
       "      <td>7.420000</td>\n",
       "      <td>7.500000</td>\n",
       "      <td>7.500000</td>\n",
       "      <td>7.50000</td>\n",
       "    </tr>\n",
       "    <tr>\n",
       "      <th>75%</th>\n",
       "      <td>7.750000</td>\n",
       "      <td>7.670000</td>\n",
       "      <td>7.580000</td>\n",
       "      <td>7.670000</td>\n",
       "      <td>7.670000</td>\n",
       "      <td>7.67000</td>\n",
       "    </tr>\n",
       "    <tr>\n",
       "      <th>max</th>\n",
       "      <td>8.750000</td>\n",
       "      <td>8.670000</td>\n",
       "      <td>8.500000</td>\n",
       "      <td>8.580000</td>\n",
       "      <td>8.420000</td>\n",
       "      <td>8.58000</td>\n",
       "    </tr>\n",
       "  </tbody>\n",
       "</table>\n",
       "</div>"
      ],
      "text/plain": [
       "            Aroma      Flavor  Aftertaste     Acidity        Body    Balance\n",
       "count  945.000000  945.000000  945.000000  945.000000  945.000000  945.00000\n",
       "mean     7.564984    7.513735    7.392815    7.530582    7.508296    7.50946\n",
       "std      0.291573    0.311277    0.319015    0.294613    0.261814    0.32606\n",
       "min      5.080000    6.080000    6.170000    5.250000    6.330000    6.08000\n",
       "25%      7.420000    7.330000    7.250000    7.330000    7.330000    7.33000\n",
       "50%      7.580000    7.500000    7.420000    7.500000    7.500000    7.50000\n",
       "75%      7.750000    7.670000    7.580000    7.670000    7.670000    7.67000\n",
       "max      8.750000    8.670000    8.500000    8.580000    8.420000    8.58000"
      ]
     },
     "execution_count": 32,
     "metadata": {},
     "output_type": "execute_result"
    }
   ],
   "source": [
    "# Checking scales\n",
    "df_matrix.describe()"
   ]
  },
  {
   "cell_type": "markdown",
   "id": "d28e4893-38b2-474b-b1ab-9c5d3b2ec66b",
   "metadata": {},
   "source": [
    "##### Comment\n",
    "- Scale is consistent between variables<br><br>"
   ]
  },
  {
   "cell_type": "markdown",
   "id": "5e8b34b2-1b98-454e-8de5-054450a69539",
   "metadata": {},
   "source": [
    "# Elbow technique"
   ]
  },
  {
   "cell_type": "code",
   "execution_count": 33,
   "id": "37570db4-d683-4aa1-bbb1-f09cfbec8493",
   "metadata": {},
   "outputs": [],
   "source": [
    "# Defines the range\n",
    "num_cl = range(1, 10)\n",
    "\n",
    "# Defines k-means clusters\n",
    "kmeans = [KMeans(n_clusters = i) for i in num_cl] "
   ]
  },
  {
   "cell_type": "code",
   "execution_count": 34,
   "id": "7a5c94b6-cf30-4f4c-a951-6dcfd5d4daa7",
   "metadata": {},
   "outputs": [
    {
     "data": {
      "text/plain": [
       "[-514.798412910053,\n",
       " -295.18150136360316,\n",
       " -228.04810701171942,\n",
       " -198.50671038005515,\n",
       " -181.4438203562289,\n",
       " -171.96715388668156,\n",
       " -161.58585337865026,\n",
       " -153.29556175012334,\n",
       " -148.1915947547056]"
      ]
     },
     "execution_count": 34,
     "metadata": {},
     "output_type": "execute_result"
    }
   ],
   "source": [
    "# Create scores\n",
    "score = [kmeans[i].fit(df_matrix).score(df_matrix) for i in range(len(kmeans))] \n",
    "\n",
    "# View scores\n",
    "score"
   ]
  },
  {
   "cell_type": "code",
   "execution_count": 35,
   "id": "5ff5f553-62ce-4087-b834-8828dabb444c",
   "metadata": {},
   "outputs": [
    {
     "data": {
      "image/png": "[encoded data removed]",
      "text/plain": [
       "<Figure size 640x480 with 1 Axes>"
      ]
     },
     "metadata": {},
     "output_type": "display_data"
    }
   ],
   "source": [
    "# Plot the elbow curve\n",
    "pl.plot(num_cl,score)\n",
    "pl.xlabel('Number of Clusters')\n",
    "pl.ylabel('Score')\n",
    "pl.title('Elbow Curve')\n",
    "pl.show()"
   ]
  },
  {
   "cell_type": "markdown",
   "id": "77027215-2a3a-4092-aab5-1f51bd69714f",
   "metadata": {},
   "source": [
    "##### Comment\n",
    "- The curve starts to flatten out from 3 onwards, meaning 3 appears to be the appropriate number of clusters."
   ]
  },
  {
   "cell_type": "markdown",
   "id": "6832e2a1-acdc-4f0b-ad48-078d5a697950",
   "metadata": {},
   "source": [
    "# k-means clustering"
   ]
  },
  {
   "cell_type": "code",
   "execution_count": 36,
   "id": "cf487ed9-a69d-4aaa-8f7f-bfc496b60567",
   "metadata": {},
   "outputs": [],
   "source": [
    "# Create the k-means object\n",
    "kmeans = KMeans(n_clusters = 3) "
   ]
  },
  {
   "cell_type": "code",
   "execution_count": 37,
   "id": "2bfb5921-7680-4831-a43e-629b557071cf",
   "metadata": {},
   "outputs": [
    {
     "data": {
      "text/html": [
       "<style>#sk-container-id-2 {\n",
       "  /* Definition of color scheme common for light and dark mode */\n",
       "  --sklearn-color-text: black;\n",
       "  --sklearn-color-line: gray;\n",
       "  /* Definition of color scheme for unfitted estimators */\n",
       "  --sklearn-color-unfitted-level-0: #fff5e6;\n",
       "  --sklearn-color-unfitted-level-1: #f6e4d2;\n",
       "  --sklearn-color-unfitted-level-2: #ffe0b3;\n",
       "  --sklearn-color-unfitted-level-3: chocolate;\n",
       "  /* Definition of color scheme for fitted estimators */\n",
       "  --sklearn-color-fitted-level-0: #f0f8ff;\n",
       "  --sklearn-color-fitted-level-1: #d4ebff;\n",
       "  --sklearn-color-fitted-level-2: #b3dbfd;\n",
       "  --sklearn-color-fitted-level-3: cornflowerblue;\n",
       "\n",
       "  /* Specific color for light theme */\n",
       "  --sklearn-color-text-on-default-background: var(--sg-text-color, var(--theme-code-foreground, var(--jp-content-font-color1, black)));\n",
       "  --sklearn-color-background: var(--sg-background-color, var(--theme-background, var(--jp-layout-color0, white)));\n",
       "  --sklearn-color-border-box: var(--sg-text-color, var(--theme-code-foreground, var(--jp-content-font-color1, black)));\n",
       "  --sklearn-color-icon: #696969;\n",
       "\n",
       "  @media (prefers-color-scheme: dark) {\n",
       "    /* Redefinition of color scheme for dark theme */\n",
       "    --sklearn-color-text-on-default-background: var(--sg-text-color, var(--theme-code-foreground, var(--jp-content-font-color1, white)));\n",
       "    --sklearn-color-background: var(--sg-background-color, var(--theme-background, var(--jp-layout-color0, #111)));\n",
       "    --sklearn-color-border-box: var(--sg-text-color, var(--theme-code-foreground, var(--jp-content-font-color1, white)));\n",
       "    --sklearn-color-icon: #878787;\n",
       "  }\n",
       "}\n",
       "\n",
       "#sk-container-id-2 {\n",
       "  color: var(--sklearn-color-text);\n",
       "}\n",
       "\n",
       "#sk-container-id-2 pre {\n",
       "  padding: 0;\n",
       "}\n",
       "\n",
       "#sk-container-id-2 input.sk-hidden--visually {\n",
       "  border: 0;\n",
       "  clip: rect(1px 1px 1px 1px);\n",
       "  clip: rect(1px, 1px, 1px, 1px);\n",
       "  height: 1px;\n",
       "  margin: -1px;\n",
       "  overflow: hidden;\n",
       "  padding: 0;\n",
       "  position: absolute;\n",
       "  width: 1px;\n",
       "}\n",
       "\n",
       "#sk-container-id-2 div.sk-dashed-wrapped {\n",
       "  border: 1px dashed var(--sklearn-color-line);\n",
       "  margin: 0 0.4em 0.5em 0.4em;\n",
       "  box-sizing: border-box;\n",
       "  padding-bottom: 0.4em;\n",
       "  background-color: var(--sklearn-color-background);\n",
       "}\n",
       "\n",
       "#sk-container-id-2 div.sk-container {\n",
       "  /* jupyter's `normalize.less` sets `[hidden] { display: none; }`\n",
       "     but bootstrap.min.css set `[hidden] { display: none !important; }`\n",
       "     so we also need the `!important` here to be able to override the\n",
       "     default hidden behavior on the sphinx rendered scikit-learn.org.\n",
       "     See: https://github.com/scikit-learn/scikit-learn/issues/21755 */\n",
       "  display: inline-block !important;\n",
       "  position: relative;\n",
       "}\n",
       "\n",
       "#sk-container-id-2 div.sk-text-repr-fallback {\n",
       "  display: none;\n",
       "}\n",
       "\n",
       "div.sk-parallel-item,\n",
       "div.sk-serial,\n",
       "div.sk-item {\n",
       "  /* draw centered vertical line to link estimators */\n",
       "  background-image: linear-gradient(var(--sklearn-color-text-on-default-background), var(--sklearn-color-text-on-default-background));\n",
       "  background-size: 2px 100%;\n",
       "  background-repeat: no-repeat;\n",
       "  background-position: center center;\n",
       "}\n",
       "\n",
       "/* Parallel-specific style estimator block */\n",
       "\n",
       "#sk-container-id-2 div.sk-parallel-item::after {\n",
       "  content: \"\";\n",
       "  width: 100%;\n",
       "  border-bottom: 2px solid var(--sklearn-color-text-on-default-background);\n",
       "  flex-grow: 1;\n",
       "}\n",
       "\n",
       "#sk-container-id-2 div.sk-parallel {\n",
       "  display: flex;\n",
       "  align-items: stretch;\n",
       "  justify-content: center;\n",
       "  background-color: var(--sklearn-color-background);\n",
       "  position: relative;\n",
       "}\n",
       "\n",
       "#sk-container-id-2 div.sk-parallel-item {\n",
       "  display: flex;\n",
       "  flex-direction: column;\n",
       "}\n",
       "\n",
       "#sk-container-id-2 div.sk-parallel-item:first-child::after {\n",
       "  align-self: flex-end;\n",
       "  width: 50%;\n",
       "}\n",
       "\n",
       "#sk-container-id-2 div.sk-parallel-item:last-child::after {\n",
       "  align-self: flex-start;\n",
       "  width: 50%;\n",
       "}\n",
       "\n",
       "#sk-container-id-2 div.sk-parallel-item:only-child::after {\n",
       "  width: 0;\n",
       "}\n",
       "\n",
       "/* Serial-specific style estimator block */\n",
       "\n",
       "#sk-container-id-2 div.sk-serial {\n",
       "  display: flex;\n",
       "  flex-direction: column;\n",
       "  align-items: center;\n",
       "  background-color: var(--sklearn-color-background);\n",
       "  padding-right: 1em;\n",
       "  padding-left: 1em;\n",
       "}\n",
       "\n",
       "\n",
       "/* Toggleable style: style used for estimator/Pipeline/ColumnTransformer box that is\n",
       "clickable and can be expanded/collapsed.\n",
       "- Pipeline and ColumnTransformer use this feature and define the default style\n",
       "- Estimators will overwrite some part of the style using the `sk-estimator` class\n",
       "*/\n",
       "\n",
       "/* Pipeline and ColumnTransformer style (default) */\n",
       "\n",
       "#sk-container-id-2 div.sk-toggleable {\n",
       "  /* Default theme specific background. It is overwritten whether we have a\n",
       "  specific estimator or a Pipeline/ColumnTransformer */\n",
       "  background-color: var(--sklearn-color-background);\n",
       "}\n",
       "\n",
       "/* Toggleable label */\n",
       "#sk-container-id-2 label.sk-toggleable__label {\n",
       "  cursor: pointer;\n",
       "  display: block;\n",
       "  width: 100%;\n",
       "  margin-bottom: 0;\n",
       "  padding: 0.5em;\n",
       "  box-sizing: border-box;\n",
       "  text-align: center;\n",
       "}\n",
       "\n",
       "#sk-container-id-2 label.sk-toggleable__label-arrow:before {\n",
       "  /* Arrow on the left of the label */\n",
       "  content: \"▸\";\n",
       "  float: left;\n",
       "  margin-right: 0.25em;\n",
       "  color: var(--sklearn-color-icon);\n",
       "}\n",
       "\n",
       "#sk-container-id-2 label.sk-toggleable__label-arrow:hover:before {\n",
       "  color: var(--sklearn-color-text);\n",
       "}\n",
       "\n",
       "/* Toggleable content - dropdown */\n",
       "\n",
       "#sk-container-id-2 div.sk-toggleable__content {\n",
       "  max-height: 0;\n",
       "  max-width: 0;\n",
       "  overflow: hidden;\n",
       "  text-align: left;\n",
       "  /* unfitted */\n",
       "  background-color: var(--sklearn-color-unfitted-level-0);\n",
       "}\n",
       "\n",
       "#sk-container-id-2 div.sk-toggleable__content.fitted {\n",
       "  /* fitted */\n",
       "  background-color: var(--sklearn-color-fitted-level-0);\n",
       "}\n",
       "\n",
       "#sk-container-id-2 div.sk-toggleable__content pre {\n",
       "  margin: 0.2em;\n",
       "  border-radius: 0.25em;\n",
       "  color: var(--sklearn-color-text);\n",
       "  /* unfitted */\n",
       "  background-color: var(--sklearn-color-unfitted-level-0);\n",
       "}\n",
       "\n",
       "#sk-container-id-2 div.sk-toggleable__content.fitted pre {\n",
       "  /* unfitted */\n",
       "  background-color: var(--sklearn-color-fitted-level-0);\n",
       "}\n",
       "\n",
       "#sk-container-id-2 input.sk-toggleable__control:checked~div.sk-toggleable__content {\n",
       "  /* Expand drop-down */\n",
       "  max-height: 200px;\n",
       "  max-width: 100%;\n",
       "  overflow: auto;\n",
       "}\n",
       "\n",
       "#sk-container-id-2 input.sk-toggleable__control:checked~label.sk-toggleable__label-arrow:before {\n",
       "  content: \"▾\";\n",
       "}\n",
       "\n",
       "/* Pipeline/ColumnTransformer-specific style */\n",
       "\n",
       "#sk-container-id-2 div.sk-label input.sk-toggleable__control:checked~label.sk-toggleable__label {\n",
       "  color: var(--sklearn-color-text);\n",
       "  background-color: var(--sklearn-color-unfitted-level-2);\n",
       "}\n",
       "\n",
       "#sk-container-id-2 div.sk-label.fitted input.sk-toggleable__control:checked~label.sk-toggleable__label {\n",
       "  background-color: var(--sklearn-color-fitted-level-2);\n",
       "}\n",
       "\n",
       "/* Estimator-specific style */\n",
       "\n",
       "/* Colorize estimator box */\n",
       "#sk-container-id-2 div.sk-estimator input.sk-toggleable__control:checked~label.sk-toggleable__label {\n",
       "  /* unfitted */\n",
       "  background-color: var(--sklearn-color-unfitted-level-2);\n",
       "}\n",
       "\n",
       "#sk-container-id-2 div.sk-estimator.fitted input.sk-toggleable__control:checked~label.sk-toggleable__label {\n",
       "  /* fitted */\n",
       "  background-color: var(--sklearn-color-fitted-level-2);\n",
       "}\n",
       "\n",
       "#sk-container-id-2 div.sk-label label.sk-toggleable__label,\n",
       "#sk-container-id-2 div.sk-label label {\n",
       "  /* The background is the default theme color */\n",
       "  color: var(--sklearn-color-text-on-default-background);\n",
       "}\n",
       "\n",
       "/* On hover, darken the color of the background */\n",
       "#sk-container-id-2 div.sk-label:hover label.sk-toggleable__label {\n",
       "  color: var(--sklearn-color-text);\n",
       "  background-color: var(--sklearn-color-unfitted-level-2);\n",
       "}\n",
       "\n",
       "/* Label box, darken color on hover, fitted */\n",
       "#sk-container-id-2 div.sk-label.fitted:hover label.sk-toggleable__label.fitted {\n",
       "  color: var(--sklearn-color-text);\n",
       "  background-color: var(--sklearn-color-fitted-level-2);\n",
       "}\n",
       "\n",
       "/* Estimator label */\n",
       "\n",
       "#sk-container-id-2 div.sk-label label {\n",
       "  font-family: monospace;\n",
       "  font-weight: bold;\n",
       "  display: inline-block;\n",
       "  line-height: 1.2em;\n",
       "}\n",
       "\n",
       "#sk-container-id-2 div.sk-label-container {\n",
       "  text-align: center;\n",
       "}\n",
       "\n",
       "/* Estimator-specific */\n",
       "#sk-container-id-2 div.sk-estimator {\n",
       "  font-family: monospace;\n",
       "  border: 1px dotted var(--sklearn-color-border-box);\n",
       "  border-radius: 0.25em;\n",
       "  box-sizing: border-box;\n",
       "  margin-bottom: 0.5em;\n",
       "  /* unfitted */\n",
       "  background-color: var(--sklearn-color-unfitted-level-0);\n",
       "}\n",
       "\n",
       "#sk-container-id-2 div.sk-estimator.fitted {\n",
       "  /* fitted */\n",
       "  background-color: var(--sklearn-color-fitted-level-0);\n",
       "}\n",
       "\n",
       "/* on hover */\n",
       "#sk-container-id-2 div.sk-estimator:hover {\n",
       "  /* unfitted */\n",
       "  background-color: var(--sklearn-color-unfitted-level-2);\n",
       "}\n",
       "\n",
       "#sk-container-id-2 div.sk-estimator.fitted:hover {\n",
       "  /* fitted */\n",
       "  background-color: var(--sklearn-color-fitted-level-2);\n",
       "}\n",
       "\n",
       "/* Specification for estimator info (e.g. \"i\" and \"?\") */\n",
       "\n",
       "/* Common style for \"i\" and \"?\" */\n",
       "\n",
       ".sk-estimator-doc-link,\n",
       "a:link.sk-estimator-doc-link,\n",
       "a:visited.sk-estimator-doc-link {\n",
       "  float: right;\n",
       "  font-size: smaller;\n",
       "  line-height: 1em;\n",
       "  font-family: monospace;\n",
       "  background-color: var(--sklearn-color-background);\n",
       "  border-radius: 1em;\n",
       "  height: 1em;\n",
       "  width: 1em;\n",
       "  text-decoration: none !important;\n",
       "  margin-left: 1ex;\n",
       "  /* unfitted */\n",
       "  border: var(--sklearn-color-unfitted-level-1) 1pt solid;\n",
       "  color: var(--sklearn-color-unfitted-level-1);\n",
       "}\n",
       "\n",
       ".sk-estimator-doc-link.fitted,\n",
       "a:link.sk-estimator-doc-link.fitted,\n",
       "a:visited.sk-estimator-doc-link.fitted {\n",
       "  /* fitted */\n",
       "  border: var(--sklearn-color-fitted-level-1) 1pt solid;\n",
       "  color: var(--sklearn-color-fitted-level-1);\n",
       "}\n",
       "\n",
       "/* On hover */\n",
       "div.sk-estimator:hover .sk-estimator-doc-link:hover,\n",
       ".sk-estimator-doc-link:hover,\n",
       "div.sk-label-container:hover .sk-estimator-doc-link:hover,\n",
       ".sk-estimator-doc-link:hover {\n",
       "  /* unfitted */\n",
       "  background-color: var(--sklearn-color-unfitted-level-3);\n",
       "  color: var(--sklearn-color-background);\n",
       "  text-decoration: none;\n",
       "}\n",
       "\n",
       "div.sk-estimator.fitted:hover .sk-estimator-doc-link.fitted:hover,\n",
       ".sk-estimator-doc-link.fitted:hover,\n",
       "div.sk-label-container:hover .sk-estimator-doc-link.fitted:hover,\n",
       ".sk-estimator-doc-link.fitted:hover {\n",
       "  /* fitted */\n",
       "  background-color: var(--sklearn-color-fitted-level-3);\n",
       "  color: var(--sklearn-color-background);\n",
       "  text-decoration: none;\n",
       "}\n",
       "\n",
       "/* Span, style for the box shown on hovering the info icon */\n",
       ".sk-estimator-doc-link span {\n",
       "  display: none;\n",
       "  z-index: 9999;\n",
       "  position: relative;\n",
       "  font-weight: normal;\n",
       "  right: .2ex;\n",
       "  padding: .5ex;\n",
       "  margin: .5ex;\n",
       "  width: min-content;\n",
       "  min-width: 20ex;\n",
       "  max-width: 50ex;\n",
       "  color: var(--sklearn-color-text);\n",
       "  box-shadow: 2pt 2pt 4pt #999;\n",
       "  /* unfitted */\n",
       "  background: var(--sklearn-color-unfitted-level-0);\n",
       "  border: .5pt solid var(--sklearn-color-unfitted-level-3);\n",
       "}\n",
       "\n",
       ".sk-estimator-doc-link.fitted span {\n",
       "  /* fitted */\n",
       "  background: var(--sklearn-color-fitted-level-0);\n",
       "  border: var(--sklearn-color-fitted-level-3);\n",
       "}\n",
       "\n",
       ".sk-estimator-doc-link:hover span {\n",
       "  display: block;\n",
       "}\n",
       "\n",
       "/* \"?\"-specific style due to the `<a>` HTML tag */\n",
       "\n",
       "#sk-container-id-2 a.estimator_doc_link {\n",
       "  float: right;\n",
       "  font-size: 1rem;\n",
       "  line-height: 1em;\n",
       "  font-family: monospace;\n",
       "  background-color: var(--sklearn-color-background);\n",
       "  border-radius: 1rem;\n",
       "  height: 1rem;\n",
       "  width: 1rem;\n",
       "  text-decoration: none;\n",
       "  /* unfitted */\n",
       "  color: var(--sklearn-color-unfitted-level-1);\n",
       "  border: var(--sklearn-color-unfitted-level-1) 1pt solid;\n",
       "}\n",
       "\n",
       "#sk-container-id-2 a.estimator_doc_link.fitted {\n",
       "  /* fitted */\n",
       "  border: var(--sklearn-color-fitted-level-1) 1pt solid;\n",
       "  color: var(--sklearn-color-fitted-level-1);\n",
       "}\n",
       "\n",
       "/* On hover */\n",
       "#sk-container-id-2 a.estimator_doc_link:hover {\n",
       "  /* unfitted */\n",
       "  background-color: var(--sklearn-color-unfitted-level-3);\n",
       "  color: var(--sklearn-color-background);\n",
       "  text-decoration: none;\n",
       "}\n",
       "\n",
       "#sk-container-id-2 a.estimator_doc_link.fitted:hover {\n",
       "  /* fitted */\n",
       "  background-color: var(--sklearn-color-fitted-level-3);\n",
       "}\n",
       "</style><div id=\"sk-container-id-2\" class=\"sk-top-container\"><div class=\"sk-text-repr-fallback\"><pre>KMeans(n_clusters=3)</pre><b>In a Jupyter environment, please rerun this cell to show the HTML representation or trust the notebook. <br />On GitHub, the HTML representation is unable to render, please try loading this page with nbviewer.org.</b></div><div class=\"sk-container\" hidden><div class=\"sk-item\"><div class=\"sk-estimator fitted sk-toggleable\"><input class=\"sk-toggleable__control sk-hidden--visually\" id=\"sk-estimator-id-2\" type=\"checkbox\" checked><label for=\"sk-estimator-id-2\" class=\"sk-toggleable__label fitted sk-toggleable__label-arrow fitted\">&nbsp;&nbsp;KMeans<a class=\"sk-estimator-doc-link fitted\" rel=\"noreferrer\" target=\"_blank\" href=\"https://scikit-learn.org/1.5/modules/generated/sklearn.cluster.KMeans.html\">?<span>Documentation for KMeans</span></a><span class=\"sk-estimator-doc-link fitted\">i<span>Fitted</span></span></label><div class=\"sk-toggleable__content fitted\"><pre>KMeans(n_clusters=3)</pre></div> </div></div></div></div>"
      ],
      "text/plain": [
       "KMeans(n_clusters=3)"
      ]
     },
     "execution_count": 37,
     "metadata": {},
     "output_type": "execute_result"
    }
   ],
   "source": [
    "# Fit the object\n",
    "kmeans.fit(df_matrix)"
   ]
  },
  {
   "cell_type": "markdown",
   "id": "30948357-247d-49d8-ba31-9a796600be2f",
   "metadata": {},
   "source": [
    "# New column"
   ]
  },
  {
   "cell_type": "code",
   "execution_count": 38,
   "id": "cb0c36cc-1d9e-4657-bf9e-55fe9e4cbfc1",
   "metadata": {},
   "outputs": [],
   "source": [
    "# Create 'clusters' variable\n",
    "df_matrix['clusters'] = kmeans.fit_predict(df_matrix)"
   ]
  },
  {
   "cell_type": "code",
   "execution_count": 39,
   "id": "c50655c4-5e32-4800-8958-39be29e927b7",
   "metadata": {},
   "outputs": [
    {
     "data": {
      "text/html": [
       "<div>\n",
       "<style scoped>\n",
       "    .dataframe tbody tr th:only-of-type {\n",
       "        vertical-align: middle;\n",
       "    }\n",
       "\n",
       "    .dataframe tbody tr th {\n",
       "        vertical-align: top;\n",
       "    }\n",
       "\n",
       "    .dataframe thead th {\n",
       "        text-align: right;\n",
       "    }\n",
       "</style>\n",
       "<table border=\"1\" class=\"dataframe\">\n",
       "  <thead>\n",
       "    <tr style=\"text-align: right;\">\n",
       "      <th></th>\n",
       "      <th>Aroma</th>\n",
       "      <th>Flavor</th>\n",
       "      <th>Aftertaste</th>\n",
       "      <th>Acidity</th>\n",
       "      <th>Body</th>\n",
       "      <th>Balance</th>\n",
       "      <th>clusters</th>\n",
       "    </tr>\n",
       "  </thead>\n",
       "  <tbody>\n",
       "    <tr>\n",
       "      <th>1</th>\n",
       "      <td>8.75</td>\n",
       "      <td>8.67</td>\n",
       "      <td>8.50</td>\n",
       "      <td>8.58</td>\n",
       "      <td>8.42</td>\n",
       "      <td>8.42</td>\n",
       "      <td>1</td>\n",
       "    </tr>\n",
       "    <tr>\n",
       "      <th>4</th>\n",
       "      <td>8.25</td>\n",
       "      <td>8.50</td>\n",
       "      <td>8.25</td>\n",
       "      <td>8.50</td>\n",
       "      <td>8.42</td>\n",
       "      <td>8.33</td>\n",
       "      <td>1</td>\n",
       "    </tr>\n",
       "    <tr>\n",
       "      <th>6</th>\n",
       "      <td>8.42</td>\n",
       "      <td>8.50</td>\n",
       "      <td>8.33</td>\n",
       "      <td>8.50</td>\n",
       "      <td>8.25</td>\n",
       "      <td>8.25</td>\n",
       "      <td>1</td>\n",
       "    </tr>\n",
       "    <tr>\n",
       "      <th>9</th>\n",
       "      <td>8.08</td>\n",
       "      <td>8.58</td>\n",
       "      <td>8.50</td>\n",
       "      <td>8.50</td>\n",
       "      <td>7.67</td>\n",
       "      <td>8.42</td>\n",
       "      <td>1</td>\n",
       "    </tr>\n",
       "    <tr>\n",
       "      <th>18</th>\n",
       "      <td>8.42</td>\n",
       "      <td>8.25</td>\n",
       "      <td>8.08</td>\n",
       "      <td>8.17</td>\n",
       "      <td>7.92</td>\n",
       "      <td>8.00</td>\n",
       "      <td>1</td>\n",
       "    </tr>\n",
       "  </tbody>\n",
       "</table>\n",
       "</div>"
      ],
      "text/plain": [
       "    Aroma  Flavor  Aftertaste  Acidity  Body  Balance  clusters\n",
       "1    8.75    8.67        8.50     8.58  8.42     8.42         1\n",
       "4    8.25    8.50        8.25     8.50  8.42     8.33         1\n",
       "6    8.42    8.50        8.33     8.50  8.25     8.25         1\n",
       "9    8.08    8.58        8.50     8.50  7.67     8.42         1\n",
       "18   8.42    8.25        8.08     8.17  7.92     8.00         1"
      ]
     },
     "execution_count": 39,
     "metadata": {},
     "output_type": "execute_result"
    }
   ],
   "source": [
    "# Preview\n",
    "df_matrix.head()"
   ]
  },
  {
   "cell_type": "code",
   "execution_count": 40,
   "id": "4b0b5994-4273-4fe0-bd45-2482942ba33e",
   "metadata": {},
   "outputs": [
    {
     "data": {
      "text/plain": [
       "clusters\n",
       "0    468\n",
       "1    280\n",
       "2    197\n",
       "Name: count, dtype: int64"
      ]
     },
     "execution_count": 40,
     "metadata": {},
     "output_type": "execute_result"
    }
   ],
   "source": [
    "# Frequency of 'clusters' variable\n",
    "df_matrix['clusters'].value_counts()"
   ]
  },
  {
   "cell_type": "markdown",
   "id": "c32001ef-3995-4510-b3bc-bf0a80874e1f",
   "metadata": {},
   "source": [
    "# Visualisations"
   ]
  },
  {
   "cell_type": "markdown",
   "id": "6134c6f7-cacc-4c3d-b9c4-0783de243501",
   "metadata": {},
   "source": [
    "## Hypothesis #1\n",
    "- The higher the score for Aftertaste, the higher the score for Flavor would be.<br><br>\n",
    "\n"
   ]
  },
  {
   "cell_type": "code",
   "execution_count": 41,
   "id": "0a8ce876-a71c-4c1a-b3d8-7756c60c0455",
   "metadata": {},
   "outputs": [
    {
     "data": {
      "image/png": "[encoded data removed]",
      "text/plain": [
       "<Figure size 1200x800 with 1 Axes>"
      ]
     },
     "metadata": {},
     "output_type": "display_data"
    }
   ],
   "source": [
    "# Cluster plot - \"Aftertaste\" and \"Flavor\"\n",
    "plt.figure(figsize = (12,8))\n",
    "ax = sns.scatterplot(x = df_matrix['Aftertaste'], y = df_matrix['Flavor'], hue = kmeans.labels_, s = 100) \n",
    "\n",
    "ax.grid(False) \n",
    "plt.xlabel('Aftertaste') \n",
    "plt.ylabel('Flavor') \n",
    "plt.show()"
   ]
  },
  {
   "cell_type": "markdown",
   "id": "6bf367b5-ac8e-4fec-983b-636004a893f6",
   "metadata": {},
   "source": [
    "##### Comments\n",
    "- Scatterplot shows clear grouping of data points\n",
    "- Clusters differentiate based on the magnitutde of the variables\n",
    "    - Dark purple: High quality Flavor and Aftertaste\n",
    "    - Pink: Medium quality Flavor and Aftertaste\n",
    "    - Purple: Low quality Flavor and Aftertaste"
   ]
  },
  {
   "cell_type": "markdown",
   "id": "fa254254-abae-4350-97af-a6b94d76b171",
   "metadata": {},
   "source": [
    "## Hypothesis #2\n",
    "- The higher the score for Aftertaste, the higher the score for Balance would be.<br><br>"
   ]
  },
  {
   "cell_type": "code",
   "execution_count": 42,
   "id": "6c55566e-4e10-46ad-a134-bcbfa194d705",
   "metadata": {},
   "outputs": [
    {
     "data": {
      "image/png": "[encoded data removed]",
      "text/plain": [
       "<Figure size 1200x800 with 1 Axes>"
      ]
     },
     "metadata": {},
     "output_type": "display_data"
    }
   ],
   "source": [
    "# Cluster plot - \"Aftertaste\" and \"Flavor\"\n",
    "plt.figure(figsize = (12,8))\n",
    "ax = sns.scatterplot(x = df_matrix['Aftertaste'], y = df_matrix['Flavor'], hue = kmeans.labels_, s = 100) \n",
    "\n",
    "ax.grid(False) \n",
    "plt.xlabel('Aftertaste') \n",
    "plt.ylabel('Balance') \n",
    "plt.show()"
   ]
  },
  {
   "cell_type": "markdown",
   "id": "e29e62af-45fc-44aa-b9cc-c14a6530d6b6",
   "metadata": {},
   "source": [
    "##### Comments\n",
    "- Scatterplot shows clear grouping of data points\n",
    "- Clusters differentiate based on the magnitutde of the variables\n",
    "    - Dark purple: High quality Balance and Aftertaste\n",
    "    - Pink: Medium quality Balance and Aftertaste\n",
    "    - Purple: Low quality Balance and Aftertaste"
   ]
  },
  {
   "cell_type": "markdown",
   "id": "920d0d87-c9d7-4637-ba4c-e9293d7ec8fb",
   "metadata": {},
   "source": [
    "# Descriptive statistics"
   ]
  },
  {
   "cell_type": "code",
   "execution_count": 43,
   "id": "6aa72cc8-2abe-4f35-a926-23dcb2eea37c",
   "metadata": {},
   "outputs": [],
   "source": [
    "# Assign corresponding colour to the clusters\n",
    "df_matrix.loc[df_matrix['clusters'] == 2, 'cluster_color'] = 'dark purple'\n",
    "df_matrix.loc[df_matrix['clusters'] == 1, 'cluster_color'] = 'purple'\n",
    "df_matrix.loc[df_matrix['clusters'] == 0, 'cluster_color'] = 'pink'"
   ]
  },
  {
   "cell_type": "code",
   "execution_count": 44,
   "id": "0ca3c223-1392-49aa-b92b-4eeb3c8124d6",
   "metadata": {},
   "outputs": [
    {
     "data": {
      "text/html": [
       "<div>\n",
       "<style scoped>\n",
       "    .dataframe tbody tr th:only-of-type {\n",
       "        vertical-align: middle;\n",
       "    }\n",
       "\n",
       "    .dataframe tbody tr th {\n",
       "        vertical-align: top;\n",
       "    }\n",
       "\n",
       "    .dataframe thead tr th {\n",
       "        text-align: left;\n",
       "    }\n",
       "\n",
       "    .dataframe thead tr:last-of-type th {\n",
       "        text-align: right;\n",
       "    }\n",
       "</style>\n",
       "<table border=\"1\" class=\"dataframe\">\n",
       "  <thead>\n",
       "    <tr>\n",
       "      <th></th>\n",
       "      <th colspan=\"2\" halign=\"left\">Aroma</th>\n",
       "      <th colspan=\"2\" halign=\"left\">Flavor</th>\n",
       "      <th colspan=\"2\" halign=\"left\">Aftertaste</th>\n",
       "      <th colspan=\"2\" halign=\"left\">Acidity</th>\n",
       "      <th colspan=\"2\" halign=\"left\">Body</th>\n",
       "      <th colspan=\"2\" halign=\"left\">Balance</th>\n",
       "    </tr>\n",
       "    <tr>\n",
       "      <th></th>\n",
       "      <th>mean</th>\n",
       "      <th>median</th>\n",
       "      <th>mean</th>\n",
       "      <th>median</th>\n",
       "      <th>mean</th>\n",
       "      <th>median</th>\n",
       "      <th>mean</th>\n",
       "      <th>median</th>\n",
       "      <th>mean</th>\n",
       "      <th>median</th>\n",
       "      <th>mean</th>\n",
       "      <th>median</th>\n",
       "    </tr>\n",
       "    <tr>\n",
       "      <th>cluster_color</th>\n",
       "      <th></th>\n",
       "      <th></th>\n",
       "      <th></th>\n",
       "      <th></th>\n",
       "      <th></th>\n",
       "      <th></th>\n",
       "      <th></th>\n",
       "      <th></th>\n",
       "      <th></th>\n",
       "      <th></th>\n",
       "      <th></th>\n",
       "      <th></th>\n",
       "    </tr>\n",
       "  </thead>\n",
       "  <tbody>\n",
       "    <tr>\n",
       "      <th>dark purple</th>\n",
       "      <td>7.257665</td>\n",
       "      <td>7.25</td>\n",
       "      <td>7.097411</td>\n",
       "      <td>7.17</td>\n",
       "      <td>6.970457</td>\n",
       "      <td>7.00</td>\n",
       "      <td>7.210406</td>\n",
       "      <td>7.25</td>\n",
       "      <td>7.228071</td>\n",
       "      <td>7.25</td>\n",
       "      <td>7.097817</td>\n",
       "      <td>7.17</td>\n",
       "    </tr>\n",
       "    <tr>\n",
       "      <th>pink</th>\n",
       "      <td>7.546880</td>\n",
       "      <td>7.58</td>\n",
       "      <td>7.516453</td>\n",
       "      <td>7.50</td>\n",
       "      <td>7.393654</td>\n",
       "      <td>7.42</td>\n",
       "      <td>7.501688</td>\n",
       "      <td>7.50</td>\n",
       "      <td>7.480769</td>\n",
       "      <td>7.50</td>\n",
       "      <td>7.498333</td>\n",
       "      <td>7.50</td>\n",
       "    </tr>\n",
       "    <tr>\n",
       "      <th>purple</th>\n",
       "      <td>7.811464</td>\n",
       "      <td>7.75</td>\n",
       "      <td>7.802107</td>\n",
       "      <td>7.75</td>\n",
       "      <td>7.688571</td>\n",
       "      <td>7.67</td>\n",
       "      <td>7.804143</td>\n",
       "      <td>7.75</td>\n",
       "      <td>7.751464</td>\n",
       "      <td>7.75</td>\n",
       "      <td>7.817679</td>\n",
       "      <td>7.75</td>\n",
       "    </tr>\n",
       "  </tbody>\n",
       "</table>\n",
       "</div>"
      ],
      "text/plain": [
       "                  Aroma           Flavor        Aftertaste          Acidity  \\\n",
       "                   mean median      mean median       mean median      mean   \n",
       "cluster_color                                                                 \n",
       "dark purple    7.257665   7.25  7.097411   7.17   6.970457   7.00  7.210406   \n",
       "pink           7.546880   7.58  7.516453   7.50   7.393654   7.42  7.501688   \n",
       "purple         7.811464   7.75  7.802107   7.75   7.688571   7.67  7.804143   \n",
       "\n",
       "                          Body          Balance         \n",
       "              median      mean median      mean median  \n",
       "cluster_color                                           \n",
       "dark purple     7.25  7.228071   7.25  7.097817   7.17  \n",
       "pink            7.50  7.480769   7.50  7.498333   7.50  \n",
       "purple          7.75  7.751464   7.75  7.817679   7.75  "
      ]
     },
     "execution_count": 44,
     "metadata": {},
     "output_type": "execute_result"
    }
   ],
   "source": [
    "# Calculate statistics\n",
    "df_matrix.groupby('cluster_color').agg({'Aroma':['mean', 'median'], \n",
    "    'Flavor':['mean', 'median'], \n",
    "    'Aftertaste':['mean', 'median'],\n",
    "    'Acidity':['mean', 'median'],\n",
    "    'Body':['mean', 'median'],\n",
    "    'Balance':['mean', 'median']})"
   ]
  },
  {
   "cell_type": "markdown",
   "id": "f941ea2d-4daf-46e2-9c77-a4ab89a4688e",
   "metadata": {},
   "source": [
    "##### Comments\n",
    "- Going forward, these categorisations could be applied to determine the following:\n",
    "    - If there are certain species or varieties that have better scores than others?\n",
    "    - If certain processing methods score better than others?\n",
    "    - If certain years have better overall scores than others?"
   ]
  },
  {
   "cell_type": "markdown",
   "id": "12d87cee-5713-4f40-b5c6-380ea8f76ecc",
   "metadata": {},
   "source": [
    "# Task"
   ]
  },
  {
   "cell_type": "markdown",
   "id": "50e33a3d-cf52-40e8-b9b2-c3e238b9cee1",
   "metadata": {},
   "source": [
    "## Install and import all necessary libraries in your Jupyter notebook."
   ]
  },
  {
   "cell_type": "markdown",
   "id": "061ceff4-a29e-4abc-ab10-4ca112822eb3",
   "metadata": {},
   "source": [
    "##### Refer 1: Importing libraries<br><br>"
   ]
  },
  {
   "cell_type": "markdown",
   "id": "6cbeab6c-9917-44cd-b4bf-fe605064331f",
   "metadata": {},
   "source": [
    "## Import your data and conduct any necessary cleaning, manipulations, and reprocessing (such as renaming).\n",
    "- Recall from the Exercise that the k-means algorithm can only handle numerical variables, so you’ll need to remove any categorical columns from your data.\n",
    "- Also recall that the difference between your variables’ scales can’t be too large or your results will be biased. Make sure you standardize your data first."
   ]
  },
  {
   "cell_type": "markdown",
   "id": "ec9ab3d8-7fe6-4286-8085-d8390dde1480",
   "metadata": {},
   "source": [
    "##### Refer 2: Importing data\n",
    "##### Refer 4: Wrangling<br><br>"
   ]
  },
  {
   "cell_type": "markdown",
   "id": "f9e61eaa-1da0-4602-b374-6467c0299958",
   "metadata": {},
   "source": [
    "## Use the elbow technique as shown in the Jupyter notebook for this Exercise."
   ]
  },
  {
   "cell_type": "markdown",
   "id": "dfd18395-1535-44ee-9af0-1190a3c5796b",
   "metadata": {},
   "source": [
    "##### Refer 5: Elbow technique<br><br>"
   ]
  },
  {
   "cell_type": "markdown",
   "id": "e582b0ce-4591-4088-8b9b-fb3ecdbcce9d",
   "metadata": {},
   "source": [
    "## Make an informed decision about the number of clusters you’ll use in your k-means algorithm based on the chart.\n",
    "- Explain why you chose that number in a markdown cell.\n",
    "- If you run into any problems determining the optimal number of clusters using the elbow technique, reach out to your tutor for suggestions."
   ]
  },
  {
   "cell_type": "markdown",
   "id": "bdf1fff1-cdeb-42d4-9f85-640edb9c52ed",
   "metadata": {},
   "source": [
    "##### Refer 5: Elbow technique - Markdown<br><br>"
   ]
  },
  {
   "cell_type": "markdown",
   "id": "cad17850-f4e5-4610-a6ac-a09b77ba80ed",
   "metadata": {},
   "source": [
    "## Run the k-means algorithm."
   ]
  },
  {
   "cell_type": "markdown",
   "id": "079a08cc-cb45-43bc-9528-1c744e53153f",
   "metadata": {},
   "source": [
    "##### Refer 6: k-means<br><br>"
   ]
  },
  {
   "cell_type": "markdown",
   "id": "c4413eee-3207-4fce-a00f-953ddd701230",
   "metadata": {},
   "source": [
    "## Attach a new column to your dataframe with the resulting clusters as shown in the Exercise. This will allow you to create a visualization using your clusters."
   ]
  },
  {
   "cell_type": "markdown",
   "id": "c2631bfc-e60e-4c13-ae50-d693165e0b4a",
   "metadata": {},
   "source": [
    "##### Refer 7: New column<br><br>"
   ]
  },
  {
   "cell_type": "markdown",
   "id": "9340ab20-3d32-4492-b3e7-fa110fb9b92d",
   "metadata": {},
   "source": [
    "## Create a few different visualizations (e.g., scatterplots) using your clustered data. Try plotting different variables against each other to see the results in terms of the clusters."
   ]
  },
  {
   "cell_type": "markdown",
   "id": "7830dadd-429d-4b21-9c90-2d27effb769b",
   "metadata": {},
   "source": [
    "##### Refer 8: Visualisations<br><br>"
   ]
  },
  {
   "cell_type": "markdown",
   "id": "be54047f-551c-4a09-945d-67c913115135",
   "metadata": {},
   "source": [
    "## Discuss how and why the clusters make sense. If they don’t make sense, however, this is also useful insight, as it means you’ll need to explore the data further.\n",
    "- Note down your thoughts in a markdown cell."
   ]
  },
  {
   "cell_type": "markdown",
   "id": "5746c875-a99b-4cf8-a928-8a701c4f484a",
   "metadata": {},
   "source": [
    "##### Refer 8.1 Hypothesis #1 - Markdown\n",
    "##### Refer 8.2 Hypothesis #2 - Markdown<br><br>"
   ]
  },
  {
   "cell_type": "markdown",
   "id": "0705f414-865c-4054-9b7f-4a1d9e317d14",
   "metadata": {},
   "source": [
    "## Calculate the descriptive statistics for your clusters using the groupby() function and discuss your findings."
   ]
  },
  {
   "cell_type": "markdown",
   "id": "5c441b49-697f-4e72-b723-76d4d7fe4c0f",
   "metadata": {},
   "source": [
    "##### Refer 9: Descriptive statistics<br><br>"
   ]
  },
  {
   "cell_type": "markdown",
   "id": "eab341fb-1aab-411e-a8fa-98275004e6a7",
   "metadata": {},
   "source": [
    "## Propose what these results could be useful for in future steps of an analytics pipeline."
   ]
  },
  {
   "cell_type": "markdown",
   "id": "e65f6e82-c8e2-4581-a3a1-9529bc97003a",
   "metadata": {},
   "source": [
    "##### Refer 9: Descriptive statistics - Markdown<br><br>"
   ]
  },
  {
   "cell_type": "markdown",
   "id": "5df1e398-9ce5-4b32-a842-840a78407402",
   "metadata": {},
   "source": [
    "## Save your notebook and submit it for your tutor to review."
   ]
  },
  {
   "cell_type": "markdown",
   "id": "4d397949-2ba8-46ab-8107-14df8c221261",
   "metadata": {},
   "source": [
    "##### Notebook saved and submitted<br><br>"
   ]
  }
 ],
 "metadata": {
  "kernelspec": {
   "display_name": "Python 3 (ipykernel)",
   "language": "python",
   "name": "python3"
  },
  "language_info": {
   "codemirror_mode": {
    "name": "ipython",
    "version": 3
   },
   "file_extension": ".py",
   "mimetype": "text/x-python",
   "name": "python",
   "nbconvert_exporter": "python",
   "pygments_lexer": "ipython3",
   "version": "3.12.7"
  }
 },
 "nbformat": 4,
 "nbformat_minor": 5
}
