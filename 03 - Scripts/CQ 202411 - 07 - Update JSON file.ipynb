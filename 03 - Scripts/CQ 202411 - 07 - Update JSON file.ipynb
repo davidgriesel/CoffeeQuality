{
 "cells": [
  {
   "cell_type": "code",
   "execution_count": null,
   "id": "3f26d374-5c9d-4750-abfb-4fb0ef2a613c",
   "metadata": {},
   "outputs": [],
   "source": [
    "import json\n",
    "\n",
    "# File path\n",
    "file_path = '/Users/davidgriesel/Documents/0 - CareerFoundry/04 - Data Analytics Immersion/06 - Advanced Analytics & Dashboard Design/Coffee Quality - CQ 202411/02 - Data/Original Data/world-countries.json'\n",
    "\n",
    "# Load GeoJSON file\n",
    "with open(file_path, \"r\") as file:\n",
    "    data = json.load(file)\n",
    "\n",
    "# Adjust longitudes\n",
    "for feature in data['features']:\n",
    "    coordinates = feature['geometry']['coordinates']\n",
    "    if feature['geometry']['type'] == \"Polygon\":\n",
    "        for ring in coordinates:\n",
    "            for point in ring:\n",
    "                if point[0] > 180:\n",
    "                    point[0] -= 360\n",
    "    elif feature['geometry']['type'] == \"MultiPolygon\":\n",
    "        for polygon in coordinates:\n",
    "            for ring in polygon:\n",
    "                for point in ring:\n",
    "                    if point[0] > 180:\n",
    "                        point[0] -= 360\n",
    "\n",
    "# Save the updated GeoJSON\n",
    "output_path = '/Users/davidgriesel/Documents/0 - CareerFoundry/04 - Data Analytics Immersion/06 - Advanced Analytics & Dashboard Design/Coffee Quality - CQ 202411/02 - Data/Or Data/updated-world-countries.json'\n",
    "with open(output_path, \"w\") as file:\n",
    "    json.dump(data, file)\n",
    "\n",
    "print(\"GeoJSON file updated and saved to:\", output_path)"
   ]
  }
 ],
 "metadata": {
  "kernelspec": {
   "display_name": "Python 3 (ipykernel)",
   "language": "python",
   "name": "python3"
  },
  "language_info": {
   "codemirror_mode": {
    "name": "ipython",
    "version": 3
   },
   "file_extension": ".py",
   "mimetype": "text/x-python",
   "name": "python",
   "nbconvert_exporter": "python",
   "pygments_lexer": "ipython3",
   "version": "3.12.7"
  }
 },
 "nbformat": 4,
 "nbformat_minor": 5
}
