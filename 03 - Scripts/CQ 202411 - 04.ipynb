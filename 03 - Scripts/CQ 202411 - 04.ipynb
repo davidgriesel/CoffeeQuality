{
 "cells": [
  {
   "cell_type": "markdown",
   "id": "b598de4a-df91-434f-89d4-43d980b495ef",
   "metadata": {},
   "source": [
    "# Importing libraries"
   ]
  },
  {
   "cell_type": "code",
   "execution_count": 1,
   "id": "c2fa666e-1c60-4a60-bdd3-942aa9ada8e4",
   "metadata": {},
   "outputs": [],
   "source": [
    "import pandas as pd\n",
    "import numpy as np\n",
    "import seaborn as sns\n",
    "import matplotlib\n",
    "import matplotlib.pyplot as plt\n",
    "import os\n",
    "import sklearn\n",
    "from sklearn.model_selection import train_test_split \n",
    "from sklearn.linear_model import LinearRegression\n",
    "from sklearn.metrics import mean_squared_error, r2_score"
   ]
  },
  {
   "cell_type": "markdown",
   "id": "e5c1e5c1-4177-403e-9aca-49f22a6c2553",
   "metadata": {},
   "source": [
    "# Loading data"
   ]
  },
  {
   "cell_type": "code",
   "execution_count": 2,
   "id": "8bb42413-dbeb-4329-8c0e-1daa863a0e56",
   "metadata": {},
   "outputs": [],
   "source": [
    "# Project path\n",
    "path = r'/Users/davidgriesel/Documents/0 - CareerFoundry/04 - Data Analytics Immersion/06 - Advanced Analytics & Dashboard Design'"
   ]
  },
  {
   "cell_type": "code",
   "execution_count": 3,
   "id": "289d9b79-08af-4cad-bc94-104db8b64577",
   "metadata": {},
   "outputs": [],
   "source": [
    "# Dataset\n",
    "df_quality = pd.read_pickle(os.path.join(path, 'Coffee Quality - CQ 202411', '02 - Data', 'Prepared Data','coffee_quality_cleaned.pkl'))"
   ]
  },
  {
   "cell_type": "code",
   "execution_count": 4,
   "id": "c0af9400-2e40-4abc-b7f3-c9913e151b5a",
   "metadata": {},
   "outputs": [],
   "source": [
    "# Configuration\n",
    "%matplotlib inline "
   ]
  },
  {
   "cell_type": "markdown",
   "id": "57e72000-dcbb-4f8c-8087-ae1d4d8e9a77",
   "metadata": {},
   "source": [
    "# Checking data"
   ]
  },
  {
   "cell_type": "code",
   "execution_count": 5,
   "id": "da74b01e-d2c7-4eff-ac0f-a56510a2eb20",
   "metadata": {},
   "outputs": [
    {
     "data": {
      "text/plain": [
       "(945, 21)"
      ]
     },
     "execution_count": 5,
     "metadata": {},
     "output_type": "execute_result"
    }
   ],
   "source": [
    "# Dimensions\n",
    "df_quality.shape"
   ]
  },
  {
   "cell_type": "code",
   "execution_count": 6,
   "id": "7d9d7399-e1f6-4e1f-b447-339aff8939f0",
   "metadata": {},
   "outputs": [
    {
     "data": {
      "text/html": [
       "<div>\n",
       "<style scoped>\n",
       "    .dataframe tbody tr th:only-of-type {\n",
       "        vertical-align: middle;\n",
       "    }\n",
       "\n",
       "    .dataframe tbody tr th {\n",
       "        vertical-align: top;\n",
       "    }\n",
       "\n",
       "    .dataframe thead th {\n",
       "        text-align: right;\n",
       "    }\n",
       "</style>\n",
       "<table border=\"1\" class=\"dataframe\">\n",
       "  <thead>\n",
       "    <tr style=\"text-align: right;\">\n",
       "      <th></th>\n",
       "      <th>Species</th>\n",
       "      <th>Continent_of_Origin</th>\n",
       "      <th>Country_of_Origin</th>\n",
       "      <th>Harvest_Year</th>\n",
       "      <th>Expiration</th>\n",
       "      <th>Variety</th>\n",
       "      <th>Color</th>\n",
       "      <th>Processing_Method</th>\n",
       "      <th>Aroma</th>\n",
       "      <th>Flavor</th>\n",
       "      <th>...</th>\n",
       "      <th>Acidity</th>\n",
       "      <th>Body</th>\n",
       "      <th>Balance</th>\n",
       "      <th>Uniformity</th>\n",
       "      <th>Clean_Cup</th>\n",
       "      <th>Sweetness</th>\n",
       "      <th>Moisture</th>\n",
       "      <th>Quakers</th>\n",
       "      <th>Category_One_Defects</th>\n",
       "      <th>Category_Two_Defects</th>\n",
       "    </tr>\n",
       "  </thead>\n",
       "  <tbody>\n",
       "    <tr>\n",
       "      <th>1</th>\n",
       "      <td>Arabica</td>\n",
       "      <td>Africa</td>\n",
       "      <td>Ethiopia</td>\n",
       "      <td>2014-01-01</td>\n",
       "      <td>2016-04-03</td>\n",
       "      <td>Other</td>\n",
       "      <td>Green</td>\n",
       "      <td>Washed / Wet</td>\n",
       "      <td>8.75</td>\n",
       "      <td>8.67</td>\n",
       "      <td>...</td>\n",
       "      <td>8.58</td>\n",
       "      <td>8.42</td>\n",
       "      <td>8.42</td>\n",
       "      <td>10.0</td>\n",
       "      <td>10.0</td>\n",
       "      <td>10.0</td>\n",
       "      <td>0.12</td>\n",
       "      <td>0</td>\n",
       "      <td>0</td>\n",
       "      <td>1</td>\n",
       "    </tr>\n",
       "    <tr>\n",
       "      <th>4</th>\n",
       "      <td>Arabica</td>\n",
       "      <td>Africa</td>\n",
       "      <td>Ethiopia</td>\n",
       "      <td>2014-01-01</td>\n",
       "      <td>2016-04-03</td>\n",
       "      <td>Other</td>\n",
       "      <td>Green</td>\n",
       "      <td>Washed / Wet</td>\n",
       "      <td>8.25</td>\n",
       "      <td>8.50</td>\n",
       "      <td>...</td>\n",
       "      <td>8.50</td>\n",
       "      <td>8.42</td>\n",
       "      <td>8.33</td>\n",
       "      <td>10.0</td>\n",
       "      <td>10.0</td>\n",
       "      <td>10.0</td>\n",
       "      <td>0.12</td>\n",
       "      <td>0</td>\n",
       "      <td>0</td>\n",
       "      <td>2</td>\n",
       "    </tr>\n",
       "    <tr>\n",
       "      <th>6</th>\n",
       "      <td>Arabica</td>\n",
       "      <td>South America</td>\n",
       "      <td>Peru</td>\n",
       "      <td>2012-01-01</td>\n",
       "      <td>2013-09-17</td>\n",
       "      <td>Other</td>\n",
       "      <td>Bluish-Green</td>\n",
       "      <td>Washed / Wet</td>\n",
       "      <td>8.42</td>\n",
       "      <td>8.50</td>\n",
       "      <td>...</td>\n",
       "      <td>8.50</td>\n",
       "      <td>8.25</td>\n",
       "      <td>8.25</td>\n",
       "      <td>10.0</td>\n",
       "      <td>10.0</td>\n",
       "      <td>10.0</td>\n",
       "      <td>0.11</td>\n",
       "      <td>0</td>\n",
       "      <td>0</td>\n",
       "      <td>0</td>\n",
       "    </tr>\n",
       "    <tr>\n",
       "      <th>9</th>\n",
       "      <td>Arabica</td>\n",
       "      <td>Africa</td>\n",
       "      <td>Ethiopia</td>\n",
       "      <td>2014-01-01</td>\n",
       "      <td>2016-03-29</td>\n",
       "      <td>Other</td>\n",
       "      <td>Green</td>\n",
       "      <td>Natural / Dry</td>\n",
       "      <td>8.08</td>\n",
       "      <td>8.58</td>\n",
       "      <td>...</td>\n",
       "      <td>8.50</td>\n",
       "      <td>7.67</td>\n",
       "      <td>8.42</td>\n",
       "      <td>10.0</td>\n",
       "      <td>10.0</td>\n",
       "      <td>10.0</td>\n",
       "      <td>0.10</td>\n",
       "      <td>0</td>\n",
       "      <td>0</td>\n",
       "      <td>4</td>\n",
       "    </tr>\n",
       "    <tr>\n",
       "      <th>18</th>\n",
       "      <td>Arabica</td>\n",
       "      <td>Asia</td>\n",
       "      <td>China</td>\n",
       "      <td>2015-01-01</td>\n",
       "      <td>2017-04-07</td>\n",
       "      <td>Catimor</td>\n",
       "      <td>Green</td>\n",
       "      <td>Washed / Wet</td>\n",
       "      <td>8.42</td>\n",
       "      <td>8.25</td>\n",
       "      <td>...</td>\n",
       "      <td>8.17</td>\n",
       "      <td>7.92</td>\n",
       "      <td>8.00</td>\n",
       "      <td>10.0</td>\n",
       "      <td>10.0</td>\n",
       "      <td>10.0</td>\n",
       "      <td>0.10</td>\n",
       "      <td>0</td>\n",
       "      <td>0</td>\n",
       "      <td>0</td>\n",
       "    </tr>\n",
       "  </tbody>\n",
       "</table>\n",
       "<p>5 rows × 21 columns</p>\n",
       "</div>"
      ],
      "text/plain": [
       "    Species Continent_of_Origin Country_of_Origin Harvest_Year Expiration  \\\n",
       "1   Arabica              Africa          Ethiopia   2014-01-01 2016-04-03   \n",
       "4   Arabica              Africa          Ethiopia   2014-01-01 2016-04-03   \n",
       "6   Arabica       South America              Peru   2012-01-01 2013-09-17   \n",
       "9   Arabica              Africa          Ethiopia   2014-01-01 2016-03-29   \n",
       "18  Arabica                Asia             China   2015-01-01 2017-04-07   \n",
       "\n",
       "    Variety         Color Processing_Method  Aroma  Flavor  ...  Acidity  \\\n",
       "1     Other         Green      Washed / Wet   8.75    8.67  ...     8.58   \n",
       "4     Other         Green      Washed / Wet   8.25    8.50  ...     8.50   \n",
       "6     Other  Bluish-Green      Washed / Wet   8.42    8.50  ...     8.50   \n",
       "9     Other         Green     Natural / Dry   8.08    8.58  ...     8.50   \n",
       "18  Catimor         Green      Washed / Wet   8.42    8.25  ...     8.17   \n",
       "\n",
       "    Body  Balance  Uniformity  Clean_Cup  Sweetness  Moisture  Quakers  \\\n",
       "1   8.42     8.42        10.0       10.0       10.0      0.12        0   \n",
       "4   8.42     8.33        10.0       10.0       10.0      0.12        0   \n",
       "6   8.25     8.25        10.0       10.0       10.0      0.11        0   \n",
       "9   7.67     8.42        10.0       10.0       10.0      0.10        0   \n",
       "18  7.92     8.00        10.0       10.0       10.0      0.10        0   \n",
       "\n",
       "    Category_One_Defects  Category_Two_Defects  \n",
       "1                      0                     1  \n",
       "4                      0                     2  \n",
       "6                      0                     0  \n",
       "9                      0                     4  \n",
       "18                     0                     0  \n",
       "\n",
       "[5 rows x 21 columns]"
      ]
     },
     "execution_count": 6,
     "metadata": {},
     "output_type": "execute_result"
    }
   ],
   "source": [
    "# Preview\n",
    "df_quality.head()"
   ]
  },
  {
   "cell_type": "markdown",
   "id": "b8c8448a-83d9-4529-beda-68899522eaf1",
   "metadata": {},
   "source": [
    "# Cleaning data"
   ]
  },
  {
   "cell_type": "markdown",
   "id": "2a94ad04-6d06-414d-a40b-41e952b96b8a",
   "metadata": {},
   "source": [
    "## Extreme value checks - Aroma"
   ]
  },
  {
   "cell_type": "code",
   "execution_count": 7,
   "id": "7d626dc7-bafb-4ab7-89d7-d2d7db9a12a6",
   "metadata": {},
   "outputs": [
    {
     "data": {
      "image/png": "[encoded data removed]",
      "text/plain": [
       "<Figure size 640x480 with 1 Axes>"
      ]
     },
     "metadata": {},
     "output_type": "display_data"
    }
   ],
   "source": [
    "# Histogram - Aroma\n",
    "sns.histplot(df_quality['Aroma'], bins = 25, kde = True)\n",
    "plt.show()"
   ]
  },
  {
   "cell_type": "code",
   "execution_count": 8,
   "id": "309a8bbb-175b-4e68-8fb0-ec93756b9384",
   "metadata": {},
   "outputs": [],
   "source": [
    "# Basic statistics - Aroma"
   ]
  },
  {
   "cell_type": "code",
   "execution_count": 9,
   "id": "5b5e7d65-4cf1-4577-965e-5f63113506dc",
   "metadata": {},
   "outputs": [
    {
     "data": {
      "text/plain": [
       "5.08"
      ]
     },
     "execution_count": 9,
     "metadata": {},
     "output_type": "execute_result"
    }
   ],
   "source": [
    "df_quality['Aroma'].min()"
   ]
  },
  {
   "cell_type": "code",
   "execution_count": 10,
   "id": "c616c9e3-3c41-4c4c-a7c7-b0bfc8398831",
   "metadata": {},
   "outputs": [
    {
     "data": {
      "text/plain": [
       "8.75"
      ]
     },
     "execution_count": 10,
     "metadata": {},
     "output_type": "execute_result"
    }
   ],
   "source": [
    "df_quality['Aroma'].max()"
   ]
  },
  {
   "cell_type": "code",
   "execution_count": 11,
   "id": "48af6c17-d737-4a3c-87fe-0399e666bcf1",
   "metadata": {},
   "outputs": [
    {
     "data": {
      "text/plain": [
       "7.58"
      ]
     },
     "execution_count": 11,
     "metadata": {},
     "output_type": "execute_result"
    }
   ],
   "source": [
    "df_quality['Aroma'].median()"
   ]
  },
  {
   "cell_type": "code",
   "execution_count": 12,
   "id": "ad45e792-ed90-46fb-bfe9-1d20219d652b",
   "metadata": {},
   "outputs": [
    {
     "data": {
      "text/plain": [
       "7.564984126984127"
      ]
     },
     "execution_count": 12,
     "metadata": {},
     "output_type": "execute_result"
    }
   ],
   "source": [
    "df_quality['Aroma'].mean()"
   ]
  },
  {
   "cell_type": "markdown",
   "id": "c2a76370-1e32-4824-8a2a-79611079e79b",
   "metadata": {},
   "source": [
    "##### Mean and median are close suggesting only a slight skew."
   ]
  },
  {
   "cell_type": "markdown",
   "id": "23f48046-f1a9-4231-a06d-1f4dd0f4e2e9",
   "metadata": {},
   "source": [
    "## Extreme value checks - Flavor"
   ]
  },
  {
   "cell_type": "code",
   "execution_count": 13,
   "id": "3e85d46b-af7d-4666-8e41-b8883dba6dee",
   "metadata": {},
   "outputs": [
    {
     "data": {
      "image/png": "[encoded data removed]",
      "text/plain": [
       "<Figure size 640x480 with 1 Axes>"
      ]
     },
     "metadata": {},
     "output_type": "display_data"
    }
   ],
   "source": [
    "# Histogram - Flavor\n",
    "sns.histplot(df_quality['Flavor'], bins = 25, kde = True)\n",
    "plt.show()"
   ]
  },
  {
   "cell_type": "code",
   "execution_count": 14,
   "id": "1ec75a88-3b66-43a4-8c10-79e8ec17ab0d",
   "metadata": {},
   "outputs": [],
   "source": [
    "# Basic statistics - Flavor"
   ]
  },
  {
   "cell_type": "code",
   "execution_count": 15,
   "id": "f9a7ba63-3486-4627-aaa1-f79180dc02ea",
   "metadata": {},
   "outputs": [
    {
     "data": {
      "text/plain": [
       "6.08"
      ]
     },
     "execution_count": 15,
     "metadata": {},
     "output_type": "execute_result"
    }
   ],
   "source": [
    "df_quality['Flavor'].min()"
   ]
  },
  {
   "cell_type": "code",
   "execution_count": 16,
   "id": "d12781ed-9ba1-4fe4-88ad-cd42b88d2ec0",
   "metadata": {},
   "outputs": [
    {
     "data": {
      "text/plain": [
       "8.67"
      ]
     },
     "execution_count": 16,
     "metadata": {},
     "output_type": "execute_result"
    }
   ],
   "source": [
    "df_quality['Flavor'].max()"
   ]
  },
  {
   "cell_type": "code",
   "execution_count": 17,
   "id": "376d804e-0978-49b1-800b-851c863b4613",
   "metadata": {},
   "outputs": [
    {
     "data": {
      "text/plain": [
       "7.513735449735449"
      ]
     },
     "execution_count": 17,
     "metadata": {},
     "output_type": "execute_result"
    }
   ],
   "source": [
    "df_quality['Flavor'].mean()"
   ]
  },
  {
   "cell_type": "code",
   "execution_count": 18,
   "id": "3453c299-0d92-463d-a3ab-fdcc158a620e",
   "metadata": {},
   "outputs": [
    {
     "data": {
      "text/plain": [
       "7.5"
      ]
     },
     "execution_count": 18,
     "metadata": {},
     "output_type": "execute_result"
    }
   ],
   "source": [
    "df_quality['Flavor'].median()"
   ]
  },
  {
   "cell_type": "markdown",
   "id": "16cfe5f4-370c-4841-baa0-d888e9025954",
   "metadata": {},
   "source": [
    "##### Mean and median are close suggesting only a slight skew."
   ]
  },
  {
   "cell_type": "markdown",
   "id": "c53c39b6-687c-48aa-ae61-253743f927b6",
   "metadata": {},
   "source": [
    "## Extreme value checks - Aftertaste"
   ]
  },
  {
   "cell_type": "code",
   "execution_count": 19,
   "id": "2a2ee1a3-da12-48ab-84d3-76c45e3a56db",
   "metadata": {},
   "outputs": [
    {
     "data": {
      "image/png": "[encoded data removed]",
      "text/plain": [
       "<Figure size 640x480 with 1 Axes>"
      ]
     },
     "metadata": {},
     "output_type": "display_data"
    }
   ],
   "source": [
    "# Histogram - Aftertaste\n",
    "sns.histplot(df_quality['Aftertaste'], bins = 25, kde = True)\n",
    "plt.show()"
   ]
  },
  {
   "cell_type": "code",
   "execution_count": 20,
   "id": "d45f1b72-90cb-4caf-87f4-9c8b4c32582c",
   "metadata": {},
   "outputs": [],
   "source": [
    "# Basic statistics - Aftertaste"
   ]
  },
  {
   "cell_type": "code",
   "execution_count": 21,
   "id": "957ffa34-1c97-4138-8588-ddeb06b1750b",
   "metadata": {},
   "outputs": [
    {
     "data": {
      "text/plain": [
       "6.17"
      ]
     },
     "execution_count": 21,
     "metadata": {},
     "output_type": "execute_result"
    }
   ],
   "source": [
    "df_quality['Aftertaste'].min()"
   ]
  },
  {
   "cell_type": "code",
   "execution_count": 22,
   "id": "64a29c52-25ff-41f1-972f-d64f69e56747",
   "metadata": {},
   "outputs": [
    {
     "data": {
      "text/plain": [
       "8.5"
      ]
     },
     "execution_count": 22,
     "metadata": {},
     "output_type": "execute_result"
    }
   ],
   "source": [
    "df_quality['Aftertaste'].max()"
   ]
  },
  {
   "cell_type": "code",
   "execution_count": 23,
   "id": "735f56e8-836a-4f26-8b1f-26efd9647d6d",
   "metadata": {},
   "outputs": [
    {
     "data": {
      "text/plain": [
       "7.392814814814815"
      ]
     },
     "execution_count": 23,
     "metadata": {},
     "output_type": "execute_result"
    }
   ],
   "source": [
    "df_quality['Aftertaste'].mean()"
   ]
  },
  {
   "cell_type": "code",
   "execution_count": 24,
   "id": "e476b9f3-65c4-4ebe-8ce6-061e9d2a826d",
   "metadata": {},
   "outputs": [
    {
     "data": {
      "text/plain": [
       "7.42"
      ]
     },
     "execution_count": 24,
     "metadata": {},
     "output_type": "execute_result"
    }
   ],
   "source": [
    "df_quality['Aftertaste'].median()"
   ]
  },
  {
   "cell_type": "markdown",
   "id": "751a1187-17c5-4192-9727-e1b17a19579c",
   "metadata": {},
   "source": [
    "##### Mean and median are close suggesting only a slight skew."
   ]
  },
  {
   "cell_type": "markdown",
   "id": "27636d2a-74c9-4e16-918c-8809cf48e8bd",
   "metadata": {},
   "source": [
    "## Extreme value checks - Acidity"
   ]
  },
  {
   "cell_type": "code",
   "execution_count": 25,
   "id": "a8c30746-a97e-4021-b62b-52ba8d1d4c6f",
   "metadata": {},
   "outputs": [
    {
     "data": {
      "image/png": "[encoded data removed]",
      "text/plain": [
       "<Figure size 640x480 with 1 Axes>"
      ]
     },
     "metadata": {},
     "output_type": "display_data"
    }
   ],
   "source": [
    "# Histogram - Acidity\n",
    "sns.histplot(df_quality['Acidity'], bins = 25, kde = True)\n",
    "plt.show()"
   ]
  },
  {
   "cell_type": "code",
   "execution_count": 26,
   "id": "e268d440-5ee5-4918-8df6-61ec1f4e5c67",
   "metadata": {},
   "outputs": [],
   "source": [
    "# Basic statistics - Acidity"
   ]
  },
  {
   "cell_type": "code",
   "execution_count": 27,
   "id": "07bcd25f-ffa4-421f-8211-893c3ac05661",
   "metadata": {},
   "outputs": [
    {
     "data": {
      "text/plain": [
       "5.25"
      ]
     },
     "execution_count": 27,
     "metadata": {},
     "output_type": "execute_result"
    }
   ],
   "source": [
    "df_quality['Acidity'].min()"
   ]
  },
  {
   "cell_type": "code",
   "execution_count": 28,
   "id": "f32410bc-0601-4968-902f-372804b6e7fa",
   "metadata": {},
   "outputs": [
    {
     "data": {
      "text/plain": [
       "8.58"
      ]
     },
     "execution_count": 28,
     "metadata": {},
     "output_type": "execute_result"
    }
   ],
   "source": [
    "df_quality['Acidity'].max()"
   ]
  },
  {
   "cell_type": "code",
   "execution_count": 29,
   "id": "c7819efc-0819-4fb8-bce6-3e78038f4a74",
   "metadata": {},
   "outputs": [
    {
     "data": {
      "text/plain": [
       "7.53058201058201"
      ]
     },
     "execution_count": 29,
     "metadata": {},
     "output_type": "execute_result"
    }
   ],
   "source": [
    "df_quality['Acidity'].mean()"
   ]
  },
  {
   "cell_type": "code",
   "execution_count": 30,
   "id": "2a9f0007-34b1-4448-9efe-8c889eca8669",
   "metadata": {},
   "outputs": [
    {
     "data": {
      "text/plain": [
       "7.5"
      ]
     },
     "execution_count": 30,
     "metadata": {},
     "output_type": "execute_result"
    }
   ],
   "source": [
    "df_quality['Acidity'].median()"
   ]
  },
  {
   "cell_type": "markdown",
   "id": "347beeb3-53b9-42ec-835b-8127c24101c8",
   "metadata": {},
   "source": [
    "##### Mean and median are close suggesting only a slight skew."
   ]
  },
  {
   "cell_type": "markdown",
   "id": "99eb8078-5f8d-4e17-8c29-51becb3851ff",
   "metadata": {},
   "source": [
    "## Extreme value checks - Body"
   ]
  },
  {
   "cell_type": "code",
   "execution_count": 31,
   "id": "cea7428e-fa8e-4a6d-8926-ca618825cf8f",
   "metadata": {},
   "outputs": [
    {
     "data": {
      "image/png": "[encoded data removed]",
      "text/plain": [
       "<Figure size 640x480 with 1 Axes>"
      ]
     },
     "metadata": {},
     "output_type": "display_data"
    }
   ],
   "source": [
    "# Histogram - Body\n",
    "sns.histplot(df_quality['Body'], bins = 25, kde = True)\n",
    "plt.show()"
   ]
  },
  {
   "cell_type": "code",
   "execution_count": 32,
   "id": "58f1aa99-ddb5-4e20-ae5f-d7fdb09685aa",
   "metadata": {},
   "outputs": [],
   "source": [
    "# Basic statistics - Body"
   ]
  },
  {
   "cell_type": "code",
   "execution_count": 33,
   "id": "af20c632-bf2d-424e-8f5a-0a825dd02446",
   "metadata": {},
   "outputs": [
    {
     "data": {
      "text/plain": [
       "6.33"
      ]
     },
     "execution_count": 33,
     "metadata": {},
     "output_type": "execute_result"
    }
   ],
   "source": [
    "df_quality['Body'].min()"
   ]
  },
  {
   "cell_type": "code",
   "execution_count": 34,
   "id": "cf3c8351-6071-4e5f-8b08-0c69f8c06a40",
   "metadata": {},
   "outputs": [
    {
     "data": {
      "text/plain": [
       "8.42"
      ]
     },
     "execution_count": 34,
     "metadata": {},
     "output_type": "execute_result"
    }
   ],
   "source": [
    "df_quality['Body'].max()"
   ]
  },
  {
   "cell_type": "code",
   "execution_count": 35,
   "id": "ab2626c9-6a56-49b9-b7fe-aa6a9e57179a",
   "metadata": {},
   "outputs": [
    {
     "data": {
      "text/plain": [
       "7.5082962962962965"
      ]
     },
     "execution_count": 35,
     "metadata": {},
     "output_type": "execute_result"
    }
   ],
   "source": [
    "df_quality['Body'].mean()"
   ]
  },
  {
   "cell_type": "code",
   "execution_count": 36,
   "id": "67f29f92-b92e-40ff-95a2-2760ecbe623b",
   "metadata": {},
   "outputs": [
    {
     "data": {
      "text/plain": [
       "7.5"
      ]
     },
     "execution_count": 36,
     "metadata": {},
     "output_type": "execute_result"
    }
   ],
   "source": [
    "df_quality['Body'].median()"
   ]
  },
  {
   "cell_type": "markdown",
   "id": "62cfab79-aa30-4c08-8f76-1cc447dc9020",
   "metadata": {},
   "source": [
    "##### Mean and median are close suggesting only a slight skew."
   ]
  },
  {
   "cell_type": "markdown",
   "id": "fe796f41-05d5-4c75-8f78-0f5994c0afab",
   "metadata": {},
   "source": [
    "## Extreme value checks - Balance"
   ]
  },
  {
   "cell_type": "code",
   "execution_count": 37,
   "id": "e2333d49-19b8-48b5-baef-7f440cca4534",
   "metadata": {},
   "outputs": [
    {
     "data": {
      "image/png": "[encoded data removed]",
      "text/plain": [
       "<Figure size 640x480 with 1 Axes>"
      ]
     },
     "metadata": {},
     "output_type": "display_data"
    }
   ],
   "source": [
    "# Histogram - Balance\n",
    "sns.histplot(df_quality['Balance'], bins = 25, kde = True)\n",
    "plt.show()"
   ]
  },
  {
   "cell_type": "code",
   "execution_count": 38,
   "id": "60fa0768-a4b9-42d7-93c7-3a5c5685cb1a",
   "metadata": {},
   "outputs": [],
   "source": [
    "# Basic statistics - Balance"
   ]
  },
  {
   "cell_type": "code",
   "execution_count": 39,
   "id": "b9d7bdec-fe57-4918-9972-cd35b153bcaa",
   "metadata": {},
   "outputs": [
    {
     "data": {
      "text/plain": [
       "6.08"
      ]
     },
     "execution_count": 39,
     "metadata": {},
     "output_type": "execute_result"
    }
   ],
   "source": [
    "df_quality['Balance'].min()"
   ]
  },
  {
   "cell_type": "code",
   "execution_count": 40,
   "id": "7d517ff5-011e-4818-9ee7-65c7bd48a699",
   "metadata": {},
   "outputs": [
    {
     "data": {
      "text/plain": [
       "8.58"
      ]
     },
     "execution_count": 40,
     "metadata": {},
     "output_type": "execute_result"
    }
   ],
   "source": [
    "df_quality['Balance'].max()"
   ]
  },
  {
   "cell_type": "code",
   "execution_count": 41,
   "id": "3395f60f-94b5-4102-b5cd-70b4c65f6717",
   "metadata": {},
   "outputs": [
    {
     "data": {
      "text/plain": [
       "7.509460317460318"
      ]
     },
     "execution_count": 41,
     "metadata": {},
     "output_type": "execute_result"
    }
   ],
   "source": [
    "df_quality['Balance'].mean()"
   ]
  },
  {
   "cell_type": "code",
   "execution_count": 42,
   "id": "8350a081-b0d2-4ec5-90cf-07e2b4f11b24",
   "metadata": {},
   "outputs": [
    {
     "data": {
      "text/plain": [
       "7.5"
      ]
     },
     "execution_count": 42,
     "metadata": {},
     "output_type": "execute_result"
    }
   ],
   "source": [
    "df_quality['Balance'].median()"
   ]
  },
  {
   "cell_type": "markdown",
   "id": "cc9a9083-5083-45e0-a373-d070132a1737",
   "metadata": {},
   "source": [
    "##### Mean and median are close suggesting only a slight skew."
   ]
  },
  {
   "cell_type": "markdown",
   "id": "a6b1f35a-f7ed-4c12-b564-490f71120361",
   "metadata": {},
   "source": [
    "# Visual exploration"
   ]
  },
  {
   "cell_type": "markdown",
   "id": "f76fa61b-6c79-4994-85e7-3ba9f2e7c1d2",
   "metadata": {},
   "source": [
    "##### Variables with strongest correlation from Exercise 3.2:\n",
    "- Aftertaste vs Flavor\n",
    "- Aftertaste vs Balance\n",
    "- Flavor vs Acidity\n",
    "- Flavor vs Balance\n",
    "- Flavor vs Aroma\n",
    "- Balance vs Body<br><br>"
   ]
  },
  {
   "cell_type": "markdown",
   "id": "63ad16f3-59ca-4472-8481-1f80b7ae24c2",
   "metadata": {},
   "source": [
    "## Aftertaste vs Flavor"
   ]
  },
  {
   "cell_type": "code",
   "execution_count": 43,
   "id": "6c75890d-3ff1-454d-9ed2-fc9879a5a9ba",
   "metadata": {},
   "outputs": [
    {
     "data": {
      "image/png": "[encoded data removed]",
      "text/plain": [
       "<Figure size 640x480 with 1 Axes>"
      ]
     },
     "metadata": {},
     "output_type": "display_data"
    }
   ],
   "source": [
    "# Scatterplot\n",
    "df_quality.plot(x = 'Aftertaste', y = 'Flavor',style = 'o')\n",
    "plt.title('Aftertaste vs Flavor')  \n",
    "plt.xlabel('Aftertaste')  \n",
    "plt.ylabel('Flavor')  \n",
    "plt.show()"
   ]
  },
  {
   "cell_type": "markdown",
   "id": "0421b1a3-4859-4217-8fa6-4d5a91c613bd",
   "metadata": {},
   "source": [
    "## Aftertaste vs Balance"
   ]
  },
  {
   "cell_type": "code",
   "execution_count": 44,
   "id": "6daaf044-1539-44eb-a25d-3d27c1a89905",
   "metadata": {},
   "outputs": [
    {
     "data": {
      "image/png": "[encoded data removed]",
      "text/plain": [
       "<Figure size 640x480 with 1 Axes>"
      ]
     },
     "metadata": {},
     "output_type": "display_data"
    }
   ],
   "source": [
    "# Scatterplot\n",
    "df_quality.plot(x = 'Aftertaste', y = 'Balance',style = 'o')\n",
    "plt.title('Aftertaste vs Balance')  \n",
    "plt.xlabel('Aftertaste')  \n",
    "plt.ylabel('Balance')  \n",
    "plt.show()"
   ]
  },
  {
   "cell_type": "markdown",
   "id": "ff936428-d9a7-4c19-bff7-740193f66019",
   "metadata": {},
   "source": [
    "## Flavor vs Acidity"
   ]
  },
  {
   "cell_type": "code",
   "execution_count": 45,
   "id": "9da9da43-9289-46b0-84b9-42ede591b533",
   "metadata": {},
   "outputs": [
    {
     "data": {
      "image/png": "[encoded data removed]",
      "text/plain": [
       "<Figure size 640x480 with 1 Axes>"
      ]
     },
     "metadata": {},
     "output_type": "display_data"
    }
   ],
   "source": [
    "# Scatterplot\n",
    "df_quality.plot(x = 'Flavor', y = 'Acidity',style = 'o')\n",
    "plt.title('Flavor vs Acidity')  \n",
    "plt.xlabel('Flavor')  \n",
    "plt.ylabel('Acidity')  \n",
    "plt.show()"
   ]
  },
  {
   "cell_type": "markdown",
   "id": "5eaea00f-f866-4c9a-acbf-18129feaf172",
   "metadata": {},
   "source": [
    "## Flavor vs Balance"
   ]
  },
  {
   "cell_type": "code",
   "execution_count": 46,
   "id": "000c642d-1f34-4140-9a8f-6c718ad3d273",
   "metadata": {},
   "outputs": [
    {
     "data": {
      "image/png": "[encoded data removed]",
      "text/plain": [
       "<Figure size 640x480 with 1 Axes>"
      ]
     },
     "metadata": {},
     "output_type": "display_data"
    }
   ],
   "source": [
    "# Scatterplot\n",
    "df_quality.plot(x = 'Flavor', y = 'Balance',style = 'o')\n",
    "plt.title('Flavor vs Balance')  \n",
    "plt.xlabel('Flavor')  \n",
    "plt.ylabel('Balance')  \n",
    "plt.show()"
   ]
  },
  {
   "cell_type": "markdown",
   "id": "56b0fb64-1f94-42ca-ba2c-1d3e3a334c70",
   "metadata": {},
   "source": [
    "## Flavor vs Aroma"
   ]
  },
  {
   "cell_type": "code",
   "execution_count": 47,
   "id": "281de493-f179-4161-8781-423ea25bf81e",
   "metadata": {},
   "outputs": [
    {
     "data": {
      "image/png": "[encoded data removed]",
      "text/plain": [
       "<Figure size 640x480 with 1 Axes>"
      ]
     },
     "metadata": {},
     "output_type": "display_data"
    }
   ],
   "source": [
    "# Scatterplot\n",
    "df_quality.plot(x = 'Flavor', y = 'Aroma',style = 'o')\n",
    "plt.title('Flavor vs Aroma')  \n",
    "plt.xlabel('Flavor')  \n",
    "plt.ylabel('Aroma')  \n",
    "plt.show()"
   ]
  },
  {
   "cell_type": "markdown",
   "id": "fdc18720-1f31-4180-ad2b-8d534f563d85",
   "metadata": {},
   "source": [
    "## Balance vs Body"
   ]
  },
  {
   "cell_type": "code",
   "execution_count": 48,
   "id": "2a9b053a-5d3b-4f95-93d0-0a2367e52799",
   "metadata": {},
   "outputs": [
    {
     "data": {
      "image/png": "[encoded data removed]",
      "text/plain": [
       "<Figure size 640x480 with 1 Axes>"
      ]
     },
     "metadata": {},
     "output_type": "display_data"
    }
   ],
   "source": [
    "# Scatterplot\n",
    "df_quality.plot(x = 'Balance', y = 'Body',style = 'o')\n",
    "plt.title('Balance vs Body')  \n",
    "plt.xlabel('Balance')  \n",
    "plt.ylabel('Body')  \n",
    "plt.show()"
   ]
  },
  {
   "cell_type": "markdown",
   "id": "f52f5890-cc80-4945-9b3e-df09b2f6fd02",
   "metadata": {},
   "source": [
    "# Hypotheses"
   ]
  },
  {
   "cell_type": "markdown",
   "id": "180d90f2-cc85-4ebb-a920-3b0f8267466f",
   "metadata": {},
   "source": [
    "##### The following variables appear most frequently among those with the strongest correlations:\n",
    "- Aftertaste\n",
    "- Flavor\n",
    "- Balance<br><br>\n",
    "\n",
    "##### Hypothesis #1\n",
    "- The higher the score for Aftertaste, the higher the score for Flavor would be.<br><br>\n",
    "\n",
    "##### Hypothesis #2\n",
    "- The higher the score for Aftertaste, the higher the score for Balance would be.<br><br>"
   ]
  },
  {
   "cell_type": "markdown",
   "id": "10c081cb-2238-4ae7-8a06-747364904dab",
   "metadata": {},
   "source": [
    "## Hypothesis #1"
   ]
  },
  {
   "cell_type": "markdown",
   "id": "f2e05280-4bf2-49eb-b48d-cababf875e2e",
   "metadata": {},
   "source": [
    "### Reshape variables"
   ]
  },
  {
   "cell_type": "code",
   "execution_count": 49,
   "id": "65f50246-b5ec-48ca-9cba-8c3effe98d35",
   "metadata": {},
   "outputs": [],
   "source": [
    "# Reshape variables\n",
    "X1 = df_quality['Aftertaste'].values.reshape(-1,1)\n",
    "y1 = df_quality['Flavor'].values.reshape(-1,1)"
   ]
  },
  {
   "cell_type": "markdown",
   "id": "3bdadd33-8bdd-4492-ae42-a08f3193dfa9",
   "metadata": {},
   "source": [
    "### Split data"
   ]
  },
  {
   "cell_type": "code",
   "execution_count": 50,
   "id": "2e89b0d4-5f39-4727-8133-51a4816fed3e",
   "metadata": {},
   "outputs": [],
   "source": [
    "# Split data\n",
    "X1_train, X1_test, y1_train, y1_test = train_test_split(X1, y1, test_size = 0.3, random_state = 0)"
   ]
  },
  {
   "cell_type": "markdown",
   "id": "700be5dc-7cf0-40df-81ce-c4d56198a7c6",
   "metadata": {},
   "source": [
    "### Linear regression"
   ]
  },
  {
   "cell_type": "code",
   "execution_count": 51,
   "id": "e89b8f94-8815-41a8-9ba7-bb33f3130154",
   "metadata": {},
   "outputs": [],
   "source": [
    "# Create regression object\n",
    "regression_1 = LinearRegression()"
   ]
  },
  {
   "cell_type": "code",
   "execution_count": 52,
   "id": "d51bd093-27e8-4a13-adc0-87becb900d28",
   "metadata": {},
   "outputs": [
    {
     "data": {
      "text/html": [
       "<style>#sk-container-id-1 {\n",
       "  /* Definition of color scheme common for light and dark mode */\n",
       "  --sklearn-color-text: black;\n",
       "  --sklearn-color-line: gray;\n",
       "  /* Definition of color scheme for unfitted estimators */\n",
       "  --sklearn-color-unfitted-level-0: #fff5e6;\n",
       "  --sklearn-color-unfitted-level-1: #f6e4d2;\n",
       "  --sklearn-color-unfitted-level-2: #ffe0b3;\n",
       "  --sklearn-color-unfitted-level-3: chocolate;\n",
       "  /* Definition of color scheme for fitted estimators */\n",
       "  --sklearn-color-fitted-level-0: #f0f8ff;\n",
       "  --sklearn-color-fitted-level-1: #d4ebff;\n",
       "  --sklearn-color-fitted-level-2: #b3dbfd;\n",
       "  --sklearn-color-fitted-level-3: cornflowerblue;\n",
       "\n",
       "  /* Specific color for light theme */\n",
       "  --sklearn-color-text-on-default-background: var(--sg-text-color, var(--theme-code-foreground, var(--jp-content-font-color1, black)));\n",
       "  --sklearn-color-background: var(--sg-background-color, var(--theme-background, var(--jp-layout-color0, white)));\n",
       "  --sklearn-color-border-box: var(--sg-text-color, var(--theme-code-foreground, var(--jp-content-font-color1, black)));\n",
       "  --sklearn-color-icon: #696969;\n",
       "\n",
       "  @media (prefers-color-scheme: dark) {\n",
       "    /* Redefinition of color scheme for dark theme */\n",
       "    --sklearn-color-text-on-default-background: var(--sg-text-color, var(--theme-code-foreground, var(--jp-content-font-color1, white)));\n",
       "    --sklearn-color-background: var(--sg-background-color, var(--theme-background, var(--jp-layout-color0, #111)));\n",
       "    --sklearn-color-border-box: var(--sg-text-color, var(--theme-code-foreground, var(--jp-content-font-color1, white)));\n",
       "    --sklearn-color-icon: #878787;\n",
       "  }\n",
       "}\n",
       "\n",
       "#sk-container-id-1 {\n",
       "  color: var(--sklearn-color-text);\n",
       "}\n",
       "\n",
       "#sk-container-id-1 pre {\n",
       "  padding: 0;\n",
       "}\n",
       "\n",
       "#sk-container-id-1 input.sk-hidden--visually {\n",
       "  border: 0;\n",
       "  clip: rect(1px 1px 1px 1px);\n",
       "  clip: rect(1px, 1px, 1px, 1px);\n",
       "  height: 1px;\n",
       "  margin: -1px;\n",
       "  overflow: hidden;\n",
       "  padding: 0;\n",
       "  position: absolute;\n",
       "  width: 1px;\n",
       "}\n",
       "\n",
       "#sk-container-id-1 div.sk-dashed-wrapped {\n",
       "  border: 1px dashed var(--sklearn-color-line);\n",
       "  margin: 0 0.4em 0.5em 0.4em;\n",
       "  box-sizing: border-box;\n",
       "  padding-bottom: 0.4em;\n",
       "  background-color: var(--sklearn-color-background);\n",
       "}\n",
       "\n",
       "#sk-container-id-1 div.sk-container {\n",
       "  /* jupyter's `normalize.less` sets `[hidden] { display: none; }`\n",
       "     but bootstrap.min.css set `[hidden] { display: none !important; }`\n",
       "     so we also need the `!important` here to be able to override the\n",
       "     default hidden behavior on the sphinx rendered scikit-learn.org.\n",
       "     See: https://github.com/scikit-learn/scikit-learn/issues/21755 */\n",
       "  display: inline-block !important;\n",
       "  position: relative;\n",
       "}\n",
       "\n",
       "#sk-container-id-1 div.sk-text-repr-fallback {\n",
       "  display: none;\n",
       "}\n",
       "\n",
       "div.sk-parallel-item,\n",
       "div.sk-serial,\n",
       "div.sk-item {\n",
       "  /* draw centered vertical line to link estimators */\n",
       "  background-image: linear-gradient(var(--sklearn-color-text-on-default-background), var(--sklearn-color-text-on-default-background));\n",
       "  background-size: 2px 100%;\n",
       "  background-repeat: no-repeat;\n",
       "  background-position: center center;\n",
       "}\n",
       "\n",
       "/* Parallel-specific style estimator block */\n",
       "\n",
       "#sk-container-id-1 div.sk-parallel-item::after {\n",
       "  content: \"\";\n",
       "  width: 100%;\n",
       "  border-bottom: 2px solid var(--sklearn-color-text-on-default-background);\n",
       "  flex-grow: 1;\n",
       "}\n",
       "\n",
       "#sk-container-id-1 div.sk-parallel {\n",
       "  display: flex;\n",
       "  align-items: stretch;\n",
       "  justify-content: center;\n",
       "  background-color: var(--sklearn-color-background);\n",
       "  position: relative;\n",
       "}\n",
       "\n",
       "#sk-container-id-1 div.sk-parallel-item {\n",
       "  display: flex;\n",
       "  flex-direction: column;\n",
       "}\n",
       "\n",
       "#sk-container-id-1 div.sk-parallel-item:first-child::after {\n",
       "  align-self: flex-end;\n",
       "  width: 50%;\n",
       "}\n",
       "\n",
       "#sk-container-id-1 div.sk-parallel-item:last-child::after {\n",
       "  align-self: flex-start;\n",
       "  width: 50%;\n",
       "}\n",
       "\n",
       "#sk-container-id-1 div.sk-parallel-item:only-child::after {\n",
       "  width: 0;\n",
       "}\n",
       "\n",
       "/* Serial-specific style estimator block */\n",
       "\n",
       "#sk-container-id-1 div.sk-serial {\n",
       "  display: flex;\n",
       "  flex-direction: column;\n",
       "  align-items: center;\n",
       "  background-color: var(--sklearn-color-background);\n",
       "  padding-right: 1em;\n",
       "  padding-left: 1em;\n",
       "}\n",
       "\n",
       "\n",
       "/* Toggleable style: style used for estimator/Pipeline/ColumnTransformer box that is\n",
       "clickable and can be expanded/collapsed.\n",
       "- Pipeline and ColumnTransformer use this feature and define the default style\n",
       "- Estimators will overwrite some part of the style using the `sk-estimator` class\n",
       "*/\n",
       "\n",
       "/* Pipeline and ColumnTransformer style (default) */\n",
       "\n",
       "#sk-container-id-1 div.sk-toggleable {\n",
       "  /* Default theme specific background. It is overwritten whether we have a\n",
       "  specific estimator or a Pipeline/ColumnTransformer */\n",
       "  background-color: var(--sklearn-color-background);\n",
       "}\n",
       "\n",
       "/* Toggleable label */\n",
       "#sk-container-id-1 label.sk-toggleable__label {\n",
       "  cursor: pointer;\n",
       "  display: block;\n",
       "  width: 100%;\n",
       "  margin-bottom: 0;\n",
       "  padding: 0.5em;\n",
       "  box-sizing: border-box;\n",
       "  text-align: center;\n",
       "}\n",
       "\n",
       "#sk-container-id-1 label.sk-toggleable__label-arrow:before {\n",
       "  /* Arrow on the left of the label */\n",
       "  content: \"▸\";\n",
       "  float: left;\n",
       "  margin-right: 0.25em;\n",
       "  color: var(--sklearn-color-icon);\n",
       "}\n",
       "\n",
       "#sk-container-id-1 label.sk-toggleable__label-arrow:hover:before {\n",
       "  color: var(--sklearn-color-text);\n",
       "}\n",
       "\n",
       "/* Toggleable content - dropdown */\n",
       "\n",
       "#sk-container-id-1 div.sk-toggleable__content {\n",
       "  max-height: 0;\n",
       "  max-width: 0;\n",
       "  overflow: hidden;\n",
       "  text-align: left;\n",
       "  /* unfitted */\n",
       "  background-color: var(--sklearn-color-unfitted-level-0);\n",
       "}\n",
       "\n",
       "#sk-container-id-1 div.sk-toggleable__content.fitted {\n",
       "  /* fitted */\n",
       "  background-color: var(--sklearn-color-fitted-level-0);\n",
       "}\n",
       "\n",
       "#sk-container-id-1 div.sk-toggleable__content pre {\n",
       "  margin: 0.2em;\n",
       "  border-radius: 0.25em;\n",
       "  color: var(--sklearn-color-text);\n",
       "  /* unfitted */\n",
       "  background-color: var(--sklearn-color-unfitted-level-0);\n",
       "}\n",
       "\n",
       "#sk-container-id-1 div.sk-toggleable__content.fitted pre {\n",
       "  /* unfitted */\n",
       "  background-color: var(--sklearn-color-fitted-level-0);\n",
       "}\n",
       "\n",
       "#sk-container-id-1 input.sk-toggleable__control:checked~div.sk-toggleable__content {\n",
       "  /* Expand drop-down */\n",
       "  max-height: 200px;\n",
       "  max-width: 100%;\n",
       "  overflow: auto;\n",
       "}\n",
       "\n",
       "#sk-container-id-1 input.sk-toggleable__control:checked~label.sk-toggleable__label-arrow:before {\n",
       "  content: \"▾\";\n",
       "}\n",
       "\n",
       "/* Pipeline/ColumnTransformer-specific style */\n",
       "\n",
       "#sk-container-id-1 div.sk-label input.sk-toggleable__control:checked~label.sk-toggleable__label {\n",
       "  color: var(--sklearn-color-text);\n",
       "  background-color: var(--sklearn-color-unfitted-level-2);\n",
       "}\n",
       "\n",
       "#sk-container-id-1 div.sk-label.fitted input.sk-toggleable__control:checked~label.sk-toggleable__label {\n",
       "  background-color: var(--sklearn-color-fitted-level-2);\n",
       "}\n",
       "\n",
       "/* Estimator-specific style */\n",
       "\n",
       "/* Colorize estimator box */\n",
       "#sk-container-id-1 div.sk-estimator input.sk-toggleable__control:checked~label.sk-toggleable__label {\n",
       "  /* unfitted */\n",
       "  background-color: var(--sklearn-color-unfitted-level-2);\n",
       "}\n",
       "\n",
       "#sk-container-id-1 div.sk-estimator.fitted input.sk-toggleable__control:checked~label.sk-toggleable__label {\n",
       "  /* fitted */\n",
       "  background-color: var(--sklearn-color-fitted-level-2);\n",
       "}\n",
       "\n",
       "#sk-container-id-1 div.sk-label label.sk-toggleable__label,\n",
       "#sk-container-id-1 div.sk-label label {\n",
       "  /* The background is the default theme color */\n",
       "  color: var(--sklearn-color-text-on-default-background);\n",
       "}\n",
       "\n",
       "/* On hover, darken the color of the background */\n",
       "#sk-container-id-1 div.sk-label:hover label.sk-toggleable__label {\n",
       "  color: var(--sklearn-color-text);\n",
       "  background-color: var(--sklearn-color-unfitted-level-2);\n",
       "}\n",
       "\n",
       "/* Label box, darken color on hover, fitted */\n",
       "#sk-container-id-1 div.sk-label.fitted:hover label.sk-toggleable__label.fitted {\n",
       "  color: var(--sklearn-color-text);\n",
       "  background-color: var(--sklearn-color-fitted-level-2);\n",
       "}\n",
       "\n",
       "/* Estimator label */\n",
       "\n",
       "#sk-container-id-1 div.sk-label label {\n",
       "  font-family: monospace;\n",
       "  font-weight: bold;\n",
       "  display: inline-block;\n",
       "  line-height: 1.2em;\n",
       "}\n",
       "\n",
       "#sk-container-id-1 div.sk-label-container {\n",
       "  text-align: center;\n",
       "}\n",
       "\n",
       "/* Estimator-specific */\n",
       "#sk-container-id-1 div.sk-estimator {\n",
       "  font-family: monospace;\n",
       "  border: 1px dotted var(--sklearn-color-border-box);\n",
       "  border-radius: 0.25em;\n",
       "  box-sizing: border-box;\n",
       "  margin-bottom: 0.5em;\n",
       "  /* unfitted */\n",
       "  background-color: var(--sklearn-color-unfitted-level-0);\n",
       "}\n",
       "\n",
       "#sk-container-id-1 div.sk-estimator.fitted {\n",
       "  /* fitted */\n",
       "  background-color: var(--sklearn-color-fitted-level-0);\n",
       "}\n",
       "\n",
       "/* on hover */\n",
       "#sk-container-id-1 div.sk-estimator:hover {\n",
       "  /* unfitted */\n",
       "  background-color: var(--sklearn-color-unfitted-level-2);\n",
       "}\n",
       "\n",
       "#sk-container-id-1 div.sk-estimator.fitted:hover {\n",
       "  /* fitted */\n",
       "  background-color: var(--sklearn-color-fitted-level-2);\n",
       "}\n",
       "\n",
       "/* Specification for estimator info (e.g. \"i\" and \"?\") */\n",
       "\n",
       "/* Common style for \"i\" and \"?\" */\n",
       "\n",
       ".sk-estimator-doc-link,\n",
       "a:link.sk-estimator-doc-link,\n",
       "a:visited.sk-estimator-doc-link {\n",
       "  float: right;\n",
       "  font-size: smaller;\n",
       "  line-height: 1em;\n",
       "  font-family: monospace;\n",
       "  background-color: var(--sklearn-color-background);\n",
       "  border-radius: 1em;\n",
       "  height: 1em;\n",
       "  width: 1em;\n",
       "  text-decoration: none !important;\n",
       "  margin-left: 1ex;\n",
       "  /* unfitted */\n",
       "  border: var(--sklearn-color-unfitted-level-1) 1pt solid;\n",
       "  color: var(--sklearn-color-unfitted-level-1);\n",
       "}\n",
       "\n",
       ".sk-estimator-doc-link.fitted,\n",
       "a:link.sk-estimator-doc-link.fitted,\n",
       "a:visited.sk-estimator-doc-link.fitted {\n",
       "  /* fitted */\n",
       "  border: var(--sklearn-color-fitted-level-1) 1pt solid;\n",
       "  color: var(--sklearn-color-fitted-level-1);\n",
       "}\n",
       "\n",
       "/* On hover */\n",
       "div.sk-estimator:hover .sk-estimator-doc-link:hover,\n",
       ".sk-estimator-doc-link:hover,\n",
       "div.sk-label-container:hover .sk-estimator-doc-link:hover,\n",
       ".sk-estimator-doc-link:hover {\n",
       "  /* unfitted */\n",
       "  background-color: var(--sklearn-color-unfitted-level-3);\n",
       "  color: var(--sklearn-color-background);\n",
       "  text-decoration: none;\n",
       "}\n",
       "\n",
       "div.sk-estimator.fitted:hover .sk-estimator-doc-link.fitted:hover,\n",
       ".sk-estimator-doc-link.fitted:hover,\n",
       "div.sk-label-container:hover .sk-estimator-doc-link.fitted:hover,\n",
       ".sk-estimator-doc-link.fitted:hover {\n",
       "  /* fitted */\n",
       "  background-color: var(--sklearn-color-fitted-level-3);\n",
       "  color: var(--sklearn-color-background);\n",
       "  text-decoration: none;\n",
       "}\n",
       "\n",
       "/* Span, style for the box shown on hovering the info icon */\n",
       ".sk-estimator-doc-link span {\n",
       "  display: none;\n",
       "  z-index: 9999;\n",
       "  position: relative;\n",
       "  font-weight: normal;\n",
       "  right: .2ex;\n",
       "  padding: .5ex;\n",
       "  margin: .5ex;\n",
       "  width: min-content;\n",
       "  min-width: 20ex;\n",
       "  max-width: 50ex;\n",
       "  color: var(--sklearn-color-text);\n",
       "  box-shadow: 2pt 2pt 4pt #999;\n",
       "  /* unfitted */\n",
       "  background: var(--sklearn-color-unfitted-level-0);\n",
       "  border: .5pt solid var(--sklearn-color-unfitted-level-3);\n",
       "}\n",
       "\n",
       ".sk-estimator-doc-link.fitted span {\n",
       "  /* fitted */\n",
       "  background: var(--sklearn-color-fitted-level-0);\n",
       "  border: var(--sklearn-color-fitted-level-3);\n",
       "}\n",
       "\n",
       ".sk-estimator-doc-link:hover span {\n",
       "  display: block;\n",
       "}\n",
       "\n",
       "/* \"?\"-specific style due to the `<a>` HTML tag */\n",
       "\n",
       "#sk-container-id-1 a.estimator_doc_link {\n",
       "  float: right;\n",
       "  font-size: 1rem;\n",
       "  line-height: 1em;\n",
       "  font-family: monospace;\n",
       "  background-color: var(--sklearn-color-background);\n",
       "  border-radius: 1rem;\n",
       "  height: 1rem;\n",
       "  width: 1rem;\n",
       "  text-decoration: none;\n",
       "  /* unfitted */\n",
       "  color: var(--sklearn-color-unfitted-level-1);\n",
       "  border: var(--sklearn-color-unfitted-level-1) 1pt solid;\n",
       "}\n",
       "\n",
       "#sk-container-id-1 a.estimator_doc_link.fitted {\n",
       "  /* fitted */\n",
       "  border: var(--sklearn-color-fitted-level-1) 1pt solid;\n",
       "  color: var(--sklearn-color-fitted-level-1);\n",
       "}\n",
       "\n",
       "/* On hover */\n",
       "#sk-container-id-1 a.estimator_doc_link:hover {\n",
       "  /* unfitted */\n",
       "  background-color: var(--sklearn-color-unfitted-level-3);\n",
       "  color: var(--sklearn-color-background);\n",
       "  text-decoration: none;\n",
       "}\n",
       "\n",
       "#sk-container-id-1 a.estimator_doc_link.fitted:hover {\n",
       "  /* fitted */\n",
       "  background-color: var(--sklearn-color-fitted-level-3);\n",
       "}\n",
       "</style><div id=\"sk-container-id-1\" class=\"sk-top-container\"><div class=\"sk-text-repr-fallback\"><pre>LinearRegression()</pre><b>In a Jupyter environment, please rerun this cell to show the HTML representation or trust the notebook. <br />On GitHub, the HTML representation is unable to render, please try loading this page with nbviewer.org.</b></div><div class=\"sk-container\" hidden><div class=\"sk-item\"><div class=\"sk-estimator fitted sk-toggleable\"><input class=\"sk-toggleable__control sk-hidden--visually\" id=\"sk-estimator-id-1\" type=\"checkbox\" checked><label for=\"sk-estimator-id-1\" class=\"sk-toggleable__label fitted sk-toggleable__label-arrow fitted\">&nbsp;&nbsp;LinearRegression<a class=\"sk-estimator-doc-link fitted\" rel=\"noreferrer\" target=\"_blank\" href=\"https://scikit-learn.org/1.5/modules/generated/sklearn.linear_model.LinearRegression.html\">?<span>Documentation for LinearRegression</span></a><span class=\"sk-estimator-doc-link fitted\">i<span>Fitted</span></span></label><div class=\"sk-toggleable__content fitted\"><pre>LinearRegression()</pre></div> </div></div></div></div>"
      ],
      "text/plain": [
       "LinearRegression()"
      ]
     },
     "execution_count": 52,
     "metadata": {},
     "output_type": "execute_result"
    }
   ],
   "source": [
    "# Fit the regression object onto the training set\n",
    "regression_1.fit(X1_train, y1_train)"
   ]
  },
  {
   "cell_type": "code",
   "execution_count": 53,
   "id": "e8cc15ac-5649-4ac1-8dcc-5920f2eb01b0",
   "metadata": {},
   "outputs": [],
   "source": [
    "# Predict the values of y1 using X1\n",
    "y1_predicted = regression_1.predict(X1_test)"
   ]
  },
  {
   "cell_type": "markdown",
   "id": "84470a4b-4926-4579-a0ca-f37825338e69",
   "metadata": {},
   "source": [
    "### Regression plot"
   ]
  },
  {
   "cell_type": "code",
   "execution_count": 54,
   "id": "68914fe7-2642-4f19-8247-d9e27d38a6d2",
   "metadata": {},
   "outputs": [
    {
     "data": {
      "image/png": "[encoded data removed]",
      "text/plain": [
       "<Figure size 640x480 with 1 Axes>"
      ]
     },
     "metadata": {},
     "output_type": "display_data"
    }
   ],
   "source": [
    "# Plot the modelled regression - test set\n",
    "plot_test_1 = plt\n",
    "plot_test_1.scatter(X1_test, y1_test, color = 'gray', s = 15)\n",
    "plot_test_1.plot(X1_test, y1_predicted, color = 'red', linewidth = 3)\n",
    "plot_test_1.title('Aftertaste vs Flavor (Test set)')\n",
    "plot_test_1.xlabel('Aftertaste')\n",
    "plot_test_1.ylabel('Flavor')\n",
    "plot_test_1.show()"
   ]
  },
  {
   "cell_type": "markdown",
   "id": "1a006dae-3104-4082-8c8b-14545c7a8d42",
   "metadata": {},
   "source": [
    "##### Comments\n",
    "- The data points appear to be evenly distributed around the regression line."
   ]
  },
  {
   "cell_type": "markdown",
   "id": "ede936d2-cd0f-4773-b5b4-e3dba261dd4c",
   "metadata": {},
   "source": [
    "### Model performance statistics (Test set)"
   ]
  },
  {
   "cell_type": "code",
   "execution_count": 55,
   "id": "9f15ed23-b478-451c-8035-5f3a7a9affcd",
   "metadata": {},
   "outputs": [],
   "source": [
    "# Create objects that contain the model summary statistics\n",
    "rmse_1 = mean_squared_error(y1_test, y1_predicted) \n",
    "r2_1 = r2_score(y1_test, y1_predicted) "
   ]
  },
  {
   "cell_type": "code",
   "execution_count": 56,
   "id": "aa1eefe5-269b-4b2f-8ee8-b9b87d2d48f6",
   "metadata": {},
   "outputs": [
    {
     "name": "stdout",
     "output_type": "stream",
     "text": [
      "Slope: [[0.77654044]]\n",
      "Mean squared error:  0.031563293173207344\n",
      "R2 score:  0.7305230539312092\n"
     ]
    }
   ],
   "source": [
    "# Print the model summary statistics\n",
    "print('Slope:' ,regression_1.coef_)\n",
    "print('Mean squared error: ', rmse_1)\n",
    "print('R2 score: ', r2_1)"
   ]
  },
  {
   "cell_type": "markdown",
   "id": "d2a2fbf0-8d5f-45fc-972e-8d7338ed0ca8",
   "metadata": {},
   "source": [
    "### Actual vs predicted y-values"
   ]
  },
  {
   "cell_type": "code",
   "execution_count": 57,
   "id": "5eda4620-3e80-4cf4-ac31-01b95f5ffc86",
   "metadata": {
    "scrolled": true
   },
   "outputs": [
    {
     "data": {
      "text/html": [
       "<div>\n",
       "<style scoped>\n",
       "    .dataframe tbody tr th:only-of-type {\n",
       "        vertical-align: middle;\n",
       "    }\n",
       "\n",
       "    .dataframe tbody tr th {\n",
       "        vertical-align: top;\n",
       "    }\n",
       "\n",
       "    .dataframe thead th {\n",
       "        text-align: right;\n",
       "    }\n",
       "</style>\n",
       "<table border=\"1\" class=\"dataframe\">\n",
       "  <thead>\n",
       "    <tr style=\"text-align: right;\">\n",
       "      <th></th>\n",
       "      <th>Actual</th>\n",
       "      <th>Predicted</th>\n",
       "    </tr>\n",
       "  </thead>\n",
       "  <tbody>\n",
       "    <tr>\n",
       "      <th>0</th>\n",
       "      <td>7.50</td>\n",
       "      <td>7.536944</td>\n",
       "    </tr>\n",
       "    <tr>\n",
       "      <th>1</th>\n",
       "      <td>7.33</td>\n",
       "      <td>7.342809</td>\n",
       "    </tr>\n",
       "    <tr>\n",
       "      <th>2</th>\n",
       "      <td>7.33</td>\n",
       "      <td>7.467055</td>\n",
       "    </tr>\n",
       "    <tr>\n",
       "      <th>3</th>\n",
       "      <td>8.17</td>\n",
       "      <td>7.793202</td>\n",
       "    </tr>\n",
       "    <tr>\n",
       "      <th>4</th>\n",
       "      <td>7.58</td>\n",
       "      <td>7.404932</td>\n",
       "    </tr>\n",
       "    <tr>\n",
       "      <th>5</th>\n",
       "      <td>7.67</td>\n",
       "      <td>7.661190</td>\n",
       "    </tr>\n",
       "    <tr>\n",
       "      <th>6</th>\n",
       "      <td>7.33</td>\n",
       "      <td>7.404932</td>\n",
       "    </tr>\n",
       "    <tr>\n",
       "      <th>7</th>\n",
       "      <td>7.17</td>\n",
       "      <td>7.210797</td>\n",
       "    </tr>\n",
       "    <tr>\n",
       "      <th>8</th>\n",
       "      <td>7.08</td>\n",
       "      <td>7.148674</td>\n",
       "    </tr>\n",
       "    <tr>\n",
       "      <th>9</th>\n",
       "      <td>7.42</td>\n",
       "      <td>7.599067</td>\n",
       "    </tr>\n",
       "    <tr>\n",
       "      <th>10</th>\n",
       "      <td>6.75</td>\n",
       "      <td>6.954538</td>\n",
       "    </tr>\n",
       "    <tr>\n",
       "      <th>11</th>\n",
       "      <td>7.83</td>\n",
       "      <td>7.467055</td>\n",
       "    </tr>\n",
       "    <tr>\n",
       "      <th>12</th>\n",
       "      <td>7.75</td>\n",
       "      <td>7.599067</td>\n",
       "    </tr>\n",
       "    <tr>\n",
       "      <th>13</th>\n",
       "      <td>7.50</td>\n",
       "      <td>7.599067</td>\n",
       "    </tr>\n",
       "    <tr>\n",
       "      <th>14</th>\n",
       "      <td>7.58</td>\n",
       "      <td>7.661190</td>\n",
       "    </tr>\n",
       "    <tr>\n",
       "      <th>15</th>\n",
       "      <td>7.50</td>\n",
       "      <td>7.467055</td>\n",
       "    </tr>\n",
       "    <tr>\n",
       "      <th>16</th>\n",
       "      <td>7.58</td>\n",
       "      <td>7.536944</td>\n",
       "    </tr>\n",
       "    <tr>\n",
       "      <th>17</th>\n",
       "      <td>7.75</td>\n",
       "      <td>7.731079</td>\n",
       "    </tr>\n",
       "    <tr>\n",
       "      <th>18</th>\n",
       "      <td>6.92</td>\n",
       "      <td>7.148674</td>\n",
       "    </tr>\n",
       "    <tr>\n",
       "      <th>19</th>\n",
       "      <td>7.50</td>\n",
       "      <td>7.210797</td>\n",
       "    </tr>\n",
       "    <tr>\n",
       "      <th>20</th>\n",
       "      <td>7.33</td>\n",
       "      <td>7.404932</td>\n",
       "    </tr>\n",
       "    <tr>\n",
       "      <th>21</th>\n",
       "      <td>7.67</td>\n",
       "      <td>7.342809</td>\n",
       "    </tr>\n",
       "    <tr>\n",
       "      <th>22</th>\n",
       "      <td>7.58</td>\n",
       "      <td>7.661190</td>\n",
       "    </tr>\n",
       "    <tr>\n",
       "      <th>23</th>\n",
       "      <td>7.50</td>\n",
       "      <td>7.404932</td>\n",
       "    </tr>\n",
       "    <tr>\n",
       "      <th>24</th>\n",
       "      <td>8.00</td>\n",
       "      <td>7.855325</td>\n",
       "    </tr>\n",
       "    <tr>\n",
       "      <th>25</th>\n",
       "      <td>7.42</td>\n",
       "      <td>7.272920</td>\n",
       "    </tr>\n",
       "    <tr>\n",
       "      <th>26</th>\n",
       "      <td>7.25</td>\n",
       "      <td>7.467055</td>\n",
       "    </tr>\n",
       "    <tr>\n",
       "      <th>27</th>\n",
       "      <td>7.67</td>\n",
       "      <td>7.536944</td>\n",
       "    </tr>\n",
       "    <tr>\n",
       "      <th>28</th>\n",
       "      <td>6.50</td>\n",
       "      <td>6.954538</td>\n",
       "    </tr>\n",
       "    <tr>\n",
       "      <th>29</th>\n",
       "      <td>7.58</td>\n",
       "      <td>7.661190</td>\n",
       "    </tr>\n",
       "  </tbody>\n",
       "</table>\n",
       "</div>"
      ],
      "text/plain": [
       "    Actual  Predicted\n",
       "0     7.50   7.536944\n",
       "1     7.33   7.342809\n",
       "2     7.33   7.467055\n",
       "3     8.17   7.793202\n",
       "4     7.58   7.404932\n",
       "5     7.67   7.661190\n",
       "6     7.33   7.404932\n",
       "7     7.17   7.210797\n",
       "8     7.08   7.148674\n",
       "9     7.42   7.599067\n",
       "10    6.75   6.954538\n",
       "11    7.83   7.467055\n",
       "12    7.75   7.599067\n",
       "13    7.50   7.599067\n",
       "14    7.58   7.661190\n",
       "15    7.50   7.467055\n",
       "16    7.58   7.536944\n",
       "17    7.75   7.731079\n",
       "18    6.92   7.148674\n",
       "19    7.50   7.210797\n",
       "20    7.33   7.404932\n",
       "21    7.67   7.342809\n",
       "22    7.58   7.661190\n",
       "23    7.50   7.404932\n",
       "24    8.00   7.855325\n",
       "25    7.42   7.272920\n",
       "26    7.25   7.467055\n",
       "27    7.67   7.536944\n",
       "28    6.50   6.954538\n",
       "29    7.58   7.661190"
      ]
     },
     "execution_count": 57,
     "metadata": {},
     "output_type": "execute_result"
    }
   ],
   "source": [
    "# Create a dataframe comparing the actual and predicted values of y1\n",
    "data_1 = pd.DataFrame({'Actual': y1_test.flatten(), 'Predicted': y1_predicted.flatten()})\n",
    "data_1.head(30)"
   ]
  },
  {
   "cell_type": "markdown",
   "id": "9520aa55-ad27-410e-aefe-4b48e777006c",
   "metadata": {},
   "source": [
    "##### Comments\n",
    "- The predicted y-values are fairly close to the actual y-values with some over, and some under. "
   ]
  },
  {
   "cell_type": "markdown",
   "id": "2a5f3a7e-705e-466a-a72d-f4c4a68d8c99",
   "metadata": {},
   "source": [
    "### Model performance statistics (Training set)"
   ]
  },
  {
   "cell_type": "code",
   "execution_count": 58,
   "id": "8b0dd574-886b-4566-9d31-71398c1b51c7",
   "metadata": {},
   "outputs": [],
   "source": [
    "# Predict\n",
    "y1_predicted_train = regression_1.predict(X1_train)"
   ]
  },
  {
   "cell_type": "code",
   "execution_count": 59,
   "id": "2fa1a2dd-76cb-4249-ab6a-f37ea0e10d70",
   "metadata": {},
   "outputs": [],
   "source": [
    "rmse_1 = mean_squared_error(y1_train, y1_predicted_train)\n",
    "r2_1 = r2_score(y1_train, y1_predicted_train)"
   ]
  },
  {
   "cell_type": "code",
   "execution_count": 60,
   "id": "3a17f300-1b2c-454d-b823-3608b74a08ba",
   "metadata": {},
   "outputs": [
    {
     "name": "stdout",
     "output_type": "stream",
     "text": [
      "Slope: [[0.77654044]]\n",
      "Mean squared error:  0.029287772376638082\n",
      "R2 score:  0.6660234980676127\n"
     ]
    }
   ],
   "source": [
    "print('Slope:' ,regression_1.coef_)\n",
    "print('Mean squared error: ', rmse_1)\n",
    "print('R2 score: ', r2_1)"
   ]
  },
  {
   "cell_type": "code",
   "execution_count": 61,
   "id": "54174fbd-ec23-4cab-8fbc-9b344d53c495",
   "metadata": {},
   "outputs": [
    {
     "data": {
      "image/png": "[encoded data removed]",
      "text/plain": [
       "<Figure size 640x480 with 1 Axes>"
      ]
     },
     "metadata": {},
     "output_type": "display_data"
    }
   ],
   "source": [
    "# Visualizing the training set results\n",
    "plot_test_1 = plt\n",
    "plot_test_1.scatter(X1_train, y1_train, color='green', s = 15)\n",
    "plot_test_1.plot(X1_train, y1_predicted_train, color='red', linewidth =3)\n",
    "plot_test_1.title('Aftertaste vs Flavor (Train set)')\n",
    "plot_test_1.xlabel('Aftertaste')\n",
    "plot_test_1.ylabel('Flavor')\n",
    "plot_test_1.show()"
   ]
  },
  {
   "cell_type": "markdown",
   "id": "54fba90d-2586-441f-8fa1-99c2f8dbdbef",
   "metadata": {},
   "source": [
    "### Performance\n",
    "- The MSE is low, indicating predictions are close to actual values.\n",
    "- The R2 score indicates that 73.1% of the variance in Flavor is explained by Aftertaste.\n",
    "- Overall, the model explains a significant portion of the variance and makes predictions with relatively small errors.\n",
    "- The values between the test and training sets are also closely aligned, which suggests that the model performs consistently."
   ]
  },
  {
   "cell_type": "markdown",
   "id": "4bd328a5-7e1e-41d2-8006-527086654900",
   "metadata": {},
   "source": [
    "## Hypothesis #2"
   ]
  },
  {
   "cell_type": "markdown",
   "id": "e731afb5-5099-456a-8f7f-b6628928a5cb",
   "metadata": {},
   "source": [
    "### Reshape variables"
   ]
  },
  {
   "cell_type": "code",
   "execution_count": 62,
   "id": "9efb0d90-014c-4218-ac71-18dc20f80033",
   "metadata": {},
   "outputs": [],
   "source": [
    "# Reshape variables\n",
    "X2 = df_quality['Aftertaste'].values.reshape(-1,1)\n",
    "y2 = df_quality['Flavor'].values.reshape(-1,1)"
   ]
  },
  {
   "cell_type": "markdown",
   "id": "4c205c33-0456-462b-a5b4-3ddc3801f011",
   "metadata": {},
   "source": [
    "### Split data"
   ]
  },
  {
   "cell_type": "code",
   "execution_count": 63,
   "id": "95fabd02-57c2-4caf-8e2c-7a03dc093006",
   "metadata": {},
   "outputs": [],
   "source": [
    "# Split data into \n",
    "X2_train, X2_test, y2_train, y2_test = train_test_split(X2, y2, test_size = 0.3, random_state = 0)"
   ]
  },
  {
   "cell_type": "markdown",
   "id": "292050db-dfda-484b-8b86-4ff5f6ac63f1",
   "metadata": {},
   "source": [
    "### Linear regression"
   ]
  },
  {
   "cell_type": "code",
   "execution_count": 64,
   "id": "3c9ee1fb-af3c-4eb1-8f6c-8d0727e65521",
   "metadata": {},
   "outputs": [],
   "source": [
    "# Create regression object\n",
    "regression_2 = LinearRegression()"
   ]
  },
  {
   "cell_type": "code",
   "execution_count": 65,
   "id": "f16a867a-7aa3-4950-99b3-3ef0a71dd288",
   "metadata": {},
   "outputs": [
    {
     "data": {
      "text/html": [
       "<style>#sk-container-id-2 {\n",
       "  /* Definition of color scheme common for light and dark mode */\n",
       "  --sklearn-color-text: black;\n",
       "  --sklearn-color-line: gray;\n",
       "  /* Definition of color scheme for unfitted estimators */\n",
       "  --sklearn-color-unfitted-level-0: #fff5e6;\n",
       "  --sklearn-color-unfitted-level-1: #f6e4d2;\n",
       "  --sklearn-color-unfitted-level-2: #ffe0b3;\n",
       "  --sklearn-color-unfitted-level-3: chocolate;\n",
       "  /* Definition of color scheme for fitted estimators */\n",
       "  --sklearn-color-fitted-level-0: #f0f8ff;\n",
       "  --sklearn-color-fitted-level-1: #d4ebff;\n",
       "  --sklearn-color-fitted-level-2: #b3dbfd;\n",
       "  --sklearn-color-fitted-level-3: cornflowerblue;\n",
       "\n",
       "  /* Specific color for light theme */\n",
       "  --sklearn-color-text-on-default-background: var(--sg-text-color, var(--theme-code-foreground, var(--jp-content-font-color1, black)));\n",
       "  --sklearn-color-background: var(--sg-background-color, var(--theme-background, var(--jp-layout-color0, white)));\n",
       "  --sklearn-color-border-box: var(--sg-text-color, var(--theme-code-foreground, var(--jp-content-font-color1, black)));\n",
       "  --sklearn-color-icon: #696969;\n",
       "\n",
       "  @media (prefers-color-scheme: dark) {\n",
       "    /* Redefinition of color scheme for dark theme */\n",
       "    --sklearn-color-text-on-default-background: var(--sg-text-color, var(--theme-code-foreground, var(--jp-content-font-color1, white)));\n",
       "    --sklearn-color-background: var(--sg-background-color, var(--theme-background, var(--jp-layout-color0, #111)));\n",
       "    --sklearn-color-border-box: var(--sg-text-color, var(--theme-code-foreground, var(--jp-content-font-color1, white)));\n",
       "    --sklearn-color-icon: #878787;\n",
       "  }\n",
       "}\n",
       "\n",
       "#sk-container-id-2 {\n",
       "  color: var(--sklearn-color-text);\n",
       "}\n",
       "\n",
       "#sk-container-id-2 pre {\n",
       "  padding: 0;\n",
       "}\n",
       "\n",
       "#sk-container-id-2 input.sk-hidden--visually {\n",
       "  border: 0;\n",
       "  clip: rect(1px 1px 1px 1px);\n",
       "  clip: rect(1px, 1px, 1px, 1px);\n",
       "  height: 1px;\n",
       "  margin: -1px;\n",
       "  overflow: hidden;\n",
       "  padding: 0;\n",
       "  position: absolute;\n",
       "  width: 1px;\n",
       "}\n",
       "\n",
       "#sk-container-id-2 div.sk-dashed-wrapped {\n",
       "  border: 1px dashed var(--sklearn-color-line);\n",
       "  margin: 0 0.4em 0.5em 0.4em;\n",
       "  box-sizing: border-box;\n",
       "  padding-bottom: 0.4em;\n",
       "  background-color: var(--sklearn-color-background);\n",
       "}\n",
       "\n",
       "#sk-container-id-2 div.sk-container {\n",
       "  /* jupyter's `normalize.less` sets `[hidden] { display: none; }`\n",
       "     but bootstrap.min.css set `[hidden] { display: none !important; }`\n",
       "     so we also need the `!important` here to be able to override the\n",
       "     default hidden behavior on the sphinx rendered scikit-learn.org.\n",
       "     See: https://github.com/scikit-learn/scikit-learn/issues/21755 */\n",
       "  display: inline-block !important;\n",
       "  position: relative;\n",
       "}\n",
       "\n",
       "#sk-container-id-2 div.sk-text-repr-fallback {\n",
       "  display: none;\n",
       "}\n",
       "\n",
       "div.sk-parallel-item,\n",
       "div.sk-serial,\n",
       "div.sk-item {\n",
       "  /* draw centered vertical line to link estimators */\n",
       "  background-image: linear-gradient(var(--sklearn-color-text-on-default-background), var(--sklearn-color-text-on-default-background));\n",
       "  background-size: 2px 100%;\n",
       "  background-repeat: no-repeat;\n",
       "  background-position: center center;\n",
       "}\n",
       "\n",
       "/* Parallel-specific style estimator block */\n",
       "\n",
       "#sk-container-id-2 div.sk-parallel-item::after {\n",
       "  content: \"\";\n",
       "  width: 100%;\n",
       "  border-bottom: 2px solid var(--sklearn-color-text-on-default-background);\n",
       "  flex-grow: 1;\n",
       "}\n",
       "\n",
       "#sk-container-id-2 div.sk-parallel {\n",
       "  display: flex;\n",
       "  align-items: stretch;\n",
       "  justify-content: center;\n",
       "  background-color: var(--sklearn-color-background);\n",
       "  position: relative;\n",
       "}\n",
       "\n",
       "#sk-container-id-2 div.sk-parallel-item {\n",
       "  display: flex;\n",
       "  flex-direction: column;\n",
       "}\n",
       "\n",
       "#sk-container-id-2 div.sk-parallel-item:first-child::after {\n",
       "  align-self: flex-end;\n",
       "  width: 50%;\n",
       "}\n",
       "\n",
       "#sk-container-id-2 div.sk-parallel-item:last-child::after {\n",
       "  align-self: flex-start;\n",
       "  width: 50%;\n",
       "}\n",
       "\n",
       "#sk-container-id-2 div.sk-parallel-item:only-child::after {\n",
       "  width: 0;\n",
       "}\n",
       "\n",
       "/* Serial-specific style estimator block */\n",
       "\n",
       "#sk-container-id-2 div.sk-serial {\n",
       "  display: flex;\n",
       "  flex-direction: column;\n",
       "  align-items: center;\n",
       "  background-color: var(--sklearn-color-background);\n",
       "  padding-right: 1em;\n",
       "  padding-left: 1em;\n",
       "}\n",
       "\n",
       "\n",
       "/* Toggleable style: style used for estimator/Pipeline/ColumnTransformer box that is\n",
       "clickable and can be expanded/collapsed.\n",
       "- Pipeline and ColumnTransformer use this feature and define the default style\n",
       "- Estimators will overwrite some part of the style using the `sk-estimator` class\n",
       "*/\n",
       "\n",
       "/* Pipeline and ColumnTransformer style (default) */\n",
       "\n",
       "#sk-container-id-2 div.sk-toggleable {\n",
       "  /* Default theme specific background. It is overwritten whether we have a\n",
       "  specific estimator or a Pipeline/ColumnTransformer */\n",
       "  background-color: var(--sklearn-color-background);\n",
       "}\n",
       "\n",
       "/* Toggleable label */\n",
       "#sk-container-id-2 label.sk-toggleable__label {\n",
       "  cursor: pointer;\n",
       "  display: block;\n",
       "  width: 100%;\n",
       "  margin-bottom: 0;\n",
       "  padding: 0.5em;\n",
       "  box-sizing: border-box;\n",
       "  text-align: center;\n",
       "}\n",
       "\n",
       "#sk-container-id-2 label.sk-toggleable__label-arrow:before {\n",
       "  /* Arrow on the left of the label */\n",
       "  content: \"▸\";\n",
       "  float: left;\n",
       "  margin-right: 0.25em;\n",
       "  color: var(--sklearn-color-icon);\n",
       "}\n",
       "\n",
       "#sk-container-id-2 label.sk-toggleable__label-arrow:hover:before {\n",
       "  color: var(--sklearn-color-text);\n",
       "}\n",
       "\n",
       "/* Toggleable content - dropdown */\n",
       "\n",
       "#sk-container-id-2 div.sk-toggleable__content {\n",
       "  max-height: 0;\n",
       "  max-width: 0;\n",
       "  overflow: hidden;\n",
       "  text-align: left;\n",
       "  /* unfitted */\n",
       "  background-color: var(--sklearn-color-unfitted-level-0);\n",
       "}\n",
       "\n",
       "#sk-container-id-2 div.sk-toggleable__content.fitted {\n",
       "  /* fitted */\n",
       "  background-color: var(--sklearn-color-fitted-level-0);\n",
       "}\n",
       "\n",
       "#sk-container-id-2 div.sk-toggleable__content pre {\n",
       "  margin: 0.2em;\n",
       "  border-radius: 0.25em;\n",
       "  color: var(--sklearn-color-text);\n",
       "  /* unfitted */\n",
       "  background-color: var(--sklearn-color-unfitted-level-0);\n",
       "}\n",
       "\n",
       "#sk-container-id-2 div.sk-toggleable__content.fitted pre {\n",
       "  /* unfitted */\n",
       "  background-color: var(--sklearn-color-fitted-level-0);\n",
       "}\n",
       "\n",
       "#sk-container-id-2 input.sk-toggleable__control:checked~div.sk-toggleable__content {\n",
       "  /* Expand drop-down */\n",
       "  max-height: 200px;\n",
       "  max-width: 100%;\n",
       "  overflow: auto;\n",
       "}\n",
       "\n",
       "#sk-container-id-2 input.sk-toggleable__control:checked~label.sk-toggleable__label-arrow:before {\n",
       "  content: \"▾\";\n",
       "}\n",
       "\n",
       "/* Pipeline/ColumnTransformer-specific style */\n",
       "\n",
       "#sk-container-id-2 div.sk-label input.sk-toggleable__control:checked~label.sk-toggleable__label {\n",
       "  color: var(--sklearn-color-text);\n",
       "  background-color: var(--sklearn-color-unfitted-level-2);\n",
       "}\n",
       "\n",
       "#sk-container-id-2 div.sk-label.fitted input.sk-toggleable__control:checked~label.sk-toggleable__label {\n",
       "  background-color: var(--sklearn-color-fitted-level-2);\n",
       "}\n",
       "\n",
       "/* Estimator-specific style */\n",
       "\n",
       "/* Colorize estimator box */\n",
       "#sk-container-id-2 div.sk-estimator input.sk-toggleable__control:checked~label.sk-toggleable__label {\n",
       "  /* unfitted */\n",
       "  background-color: var(--sklearn-color-unfitted-level-2);\n",
       "}\n",
       "\n",
       "#sk-container-id-2 div.sk-estimator.fitted input.sk-toggleable__control:checked~label.sk-toggleable__label {\n",
       "  /* fitted */\n",
       "  background-color: var(--sklearn-color-fitted-level-2);\n",
       "}\n",
       "\n",
       "#sk-container-id-2 div.sk-label label.sk-toggleable__label,\n",
       "#sk-container-id-2 div.sk-label label {\n",
       "  /* The background is the default theme color */\n",
       "  color: var(--sklearn-color-text-on-default-background);\n",
       "}\n",
       "\n",
       "/* On hover, darken the color of the background */\n",
       "#sk-container-id-2 div.sk-label:hover label.sk-toggleable__label {\n",
       "  color: var(--sklearn-color-text);\n",
       "  background-color: var(--sklearn-color-unfitted-level-2);\n",
       "}\n",
       "\n",
       "/* Label box, darken color on hover, fitted */\n",
       "#sk-container-id-2 div.sk-label.fitted:hover label.sk-toggleable__label.fitted {\n",
       "  color: var(--sklearn-color-text);\n",
       "  background-color: var(--sklearn-color-fitted-level-2);\n",
       "}\n",
       "\n",
       "/* Estimator label */\n",
       "\n",
       "#sk-container-id-2 div.sk-label label {\n",
       "  font-family: monospace;\n",
       "  font-weight: bold;\n",
       "  display: inline-block;\n",
       "  line-height: 1.2em;\n",
       "}\n",
       "\n",
       "#sk-container-id-2 div.sk-label-container {\n",
       "  text-align: center;\n",
       "}\n",
       "\n",
       "/* Estimator-specific */\n",
       "#sk-container-id-2 div.sk-estimator {\n",
       "  font-family: monospace;\n",
       "  border: 1px dotted var(--sklearn-color-border-box);\n",
       "  border-radius: 0.25em;\n",
       "  box-sizing: border-box;\n",
       "  margin-bottom: 0.5em;\n",
       "  /* unfitted */\n",
       "  background-color: var(--sklearn-color-unfitted-level-0);\n",
       "}\n",
       "\n",
       "#sk-container-id-2 div.sk-estimator.fitted {\n",
       "  /* fitted */\n",
       "  background-color: var(--sklearn-color-fitted-level-0);\n",
       "}\n",
       "\n",
       "/* on hover */\n",
       "#sk-container-id-2 div.sk-estimator:hover {\n",
       "  /* unfitted */\n",
       "  background-color: var(--sklearn-color-unfitted-level-2);\n",
       "}\n",
       "\n",
       "#sk-container-id-2 div.sk-estimator.fitted:hover {\n",
       "  /* fitted */\n",
       "  background-color: var(--sklearn-color-fitted-level-2);\n",
       "}\n",
       "\n",
       "/* Specification for estimator info (e.g. \"i\" and \"?\") */\n",
       "\n",
       "/* Common style for \"i\" and \"?\" */\n",
       "\n",
       ".sk-estimator-doc-link,\n",
       "a:link.sk-estimator-doc-link,\n",
       "a:visited.sk-estimator-doc-link {\n",
       "  float: right;\n",
       "  font-size: smaller;\n",
       "  line-height: 1em;\n",
       "  font-family: monospace;\n",
       "  background-color: var(--sklearn-color-background);\n",
       "  border-radius: 1em;\n",
       "  height: 1em;\n",
       "  width: 1em;\n",
       "  text-decoration: none !important;\n",
       "  margin-left: 1ex;\n",
       "  /* unfitted */\n",
       "  border: var(--sklearn-color-unfitted-level-1) 1pt solid;\n",
       "  color: var(--sklearn-color-unfitted-level-1);\n",
       "}\n",
       "\n",
       ".sk-estimator-doc-link.fitted,\n",
       "a:link.sk-estimator-doc-link.fitted,\n",
       "a:visited.sk-estimator-doc-link.fitted {\n",
       "  /* fitted */\n",
       "  border: var(--sklearn-color-fitted-level-1) 1pt solid;\n",
       "  color: var(--sklearn-color-fitted-level-1);\n",
       "}\n",
       "\n",
       "/* On hover */\n",
       "div.sk-estimator:hover .sk-estimator-doc-link:hover,\n",
       ".sk-estimator-doc-link:hover,\n",
       "div.sk-label-container:hover .sk-estimator-doc-link:hover,\n",
       ".sk-estimator-doc-link:hover {\n",
       "  /* unfitted */\n",
       "  background-color: var(--sklearn-color-unfitted-level-3);\n",
       "  color: var(--sklearn-color-background);\n",
       "  text-decoration: none;\n",
       "}\n",
       "\n",
       "div.sk-estimator.fitted:hover .sk-estimator-doc-link.fitted:hover,\n",
       ".sk-estimator-doc-link.fitted:hover,\n",
       "div.sk-label-container:hover .sk-estimator-doc-link.fitted:hover,\n",
       ".sk-estimator-doc-link.fitted:hover {\n",
       "  /* fitted */\n",
       "  background-color: var(--sklearn-color-fitted-level-3);\n",
       "  color: var(--sklearn-color-background);\n",
       "  text-decoration: none;\n",
       "}\n",
       "\n",
       "/* Span, style for the box shown on hovering the info icon */\n",
       ".sk-estimator-doc-link span {\n",
       "  display: none;\n",
       "  z-index: 9999;\n",
       "  position: relative;\n",
       "  font-weight: normal;\n",
       "  right: .2ex;\n",
       "  padding: .5ex;\n",
       "  margin: .5ex;\n",
       "  width: min-content;\n",
       "  min-width: 20ex;\n",
       "  max-width: 50ex;\n",
       "  color: var(--sklearn-color-text);\n",
       "  box-shadow: 2pt 2pt 4pt #999;\n",
       "  /* unfitted */\n",
       "  background: var(--sklearn-color-unfitted-level-0);\n",
       "  border: .5pt solid var(--sklearn-color-unfitted-level-3);\n",
       "}\n",
       "\n",
       ".sk-estimator-doc-link.fitted span {\n",
       "  /* fitted */\n",
       "  background: var(--sklearn-color-fitted-level-0);\n",
       "  border: var(--sklearn-color-fitted-level-3);\n",
       "}\n",
       "\n",
       ".sk-estimator-doc-link:hover span {\n",
       "  display: block;\n",
       "}\n",
       "\n",
       "/* \"?\"-specific style due to the `<a>` HTML tag */\n",
       "\n",
       "#sk-container-id-2 a.estimator_doc_link {\n",
       "  float: right;\n",
       "  font-size: 1rem;\n",
       "  line-height: 1em;\n",
       "  font-family: monospace;\n",
       "  background-color: var(--sklearn-color-background);\n",
       "  border-radius: 1rem;\n",
       "  height: 1rem;\n",
       "  width: 1rem;\n",
       "  text-decoration: none;\n",
       "  /* unfitted */\n",
       "  color: var(--sklearn-color-unfitted-level-1);\n",
       "  border: var(--sklearn-color-unfitted-level-1) 1pt solid;\n",
       "}\n",
       "\n",
       "#sk-container-id-2 a.estimator_doc_link.fitted {\n",
       "  /* fitted */\n",
       "  border: var(--sklearn-color-fitted-level-1) 1pt solid;\n",
       "  color: var(--sklearn-color-fitted-level-1);\n",
       "}\n",
       "\n",
       "/* On hover */\n",
       "#sk-container-id-2 a.estimator_doc_link:hover {\n",
       "  /* unfitted */\n",
       "  background-color: var(--sklearn-color-unfitted-level-3);\n",
       "  color: var(--sklearn-color-background);\n",
       "  text-decoration: none;\n",
       "}\n",
       "\n",
       "#sk-container-id-2 a.estimator_doc_link.fitted:hover {\n",
       "  /* fitted */\n",
       "  background-color: var(--sklearn-color-fitted-level-3);\n",
       "}\n",
       "</style><div id=\"sk-container-id-2\" class=\"sk-top-container\"><div class=\"sk-text-repr-fallback\"><pre>LinearRegression()</pre><b>In a Jupyter environment, please rerun this cell to show the HTML representation or trust the notebook. <br />On GitHub, the HTML representation is unable to render, please try loading this page with nbviewer.org.</b></div><div class=\"sk-container\" hidden><div class=\"sk-item\"><div class=\"sk-estimator fitted sk-toggleable\"><input class=\"sk-toggleable__control sk-hidden--visually\" id=\"sk-estimator-id-2\" type=\"checkbox\" checked><label for=\"sk-estimator-id-2\" class=\"sk-toggleable__label fitted sk-toggleable__label-arrow fitted\">&nbsp;&nbsp;LinearRegression<a class=\"sk-estimator-doc-link fitted\" rel=\"noreferrer\" target=\"_blank\" href=\"https://scikit-learn.org/1.5/modules/generated/sklearn.linear_model.LinearRegression.html\">?<span>Documentation for LinearRegression</span></a><span class=\"sk-estimator-doc-link fitted\">i<span>Fitted</span></span></label><div class=\"sk-toggleable__content fitted\"><pre>LinearRegression()</pre></div> </div></div></div></div>"
      ],
      "text/plain": [
       "LinearRegression()"
      ]
     },
     "execution_count": 65,
     "metadata": {},
     "output_type": "execute_result"
    }
   ],
   "source": [
    "# Fit the regression object onto the training set.\n",
    "regression_2.fit(X2_train, y2_train)"
   ]
  },
  {
   "cell_type": "code",
   "execution_count": 66,
   "id": "4ddc09c7-1eaf-4fc9-bfa6-354bca6423cd",
   "metadata": {},
   "outputs": [],
   "source": [
    "# Predict the values of y using X2\n",
    "y2_predicted = regression_2.predict(X2_test)"
   ]
  },
  {
   "cell_type": "markdown",
   "id": "6f29fed9-28a0-487e-83f2-63b5c6580b80",
   "metadata": {},
   "source": [
    "### Regression plot"
   ]
  },
  {
   "cell_type": "code",
   "execution_count": 67,
   "id": "f2469f4d-875a-406b-a192-68f775096bda",
   "metadata": {},
   "outputs": [
    {
     "data": {
      "image/png": "[encoded data removed]",
      "text/plain": [
       "<Figure size 640x480 with 1 Axes>"
      ]
     },
     "metadata": {},
     "output_type": "display_data"
    }
   ],
   "source": [
    "# Plot the modelled regression - test set\n",
    "plot_test_2 = plt\n",
    "plot_test_2.scatter(X2_test, y2_test, color = 'gray', s = 15)\n",
    "plot_test_2.plot(X2_test, y2_predicted, color = 'red', linewidth = 3)\n",
    "plot_test_2.title('Aftertaste vs Balance (Test set)')\n",
    "plot_test_2.xlabel('Aftertaste')\n",
    "plot_test_2.ylabel('Balance')\n",
    "plot_test_2.show()"
   ]
  },
  {
   "cell_type": "markdown",
   "id": "621a71df-4fc1-4715-bc71-759939eaccf6",
   "metadata": {},
   "source": [
    "##### Comments\n",
    "- The data points appear to be evenly distributed around the regression line."
   ]
  },
  {
   "cell_type": "markdown",
   "id": "eee5b3c4-b030-41c7-bbdd-dfd280085c40",
   "metadata": {},
   "source": [
    "### Model performance statistics (Test set)"
   ]
  },
  {
   "cell_type": "code",
   "execution_count": 68,
   "id": "6e0be159-a323-48b1-9430-675421c0c9f4",
   "metadata": {},
   "outputs": [],
   "source": [
    "# Create objects that contain the model summary statistics\n",
    "rmse_2 = mean_squared_error(y2_test, y2_predicted) \n",
    "r2_2 = r2_score(y2_test, y2_predicted) "
   ]
  },
  {
   "cell_type": "code",
   "execution_count": 69,
   "id": "f9f4de5a-6c6c-4c4f-bc9c-807cccac2745",
   "metadata": {},
   "outputs": [
    {
     "name": "stdout",
     "output_type": "stream",
     "text": [
      "Slope: [[0.77654044]]\n",
      "Mean squared error:  0.031563293173207344\n",
      "R2 score:  0.7305230539312092\n"
     ]
    }
   ],
   "source": [
    "# Print the model summary statistics\n",
    "print('Slope:' ,regression_2.coef_)\n",
    "print('Mean squared error: ', rmse_2)\n",
    "print('R2 score: ', r2_2)"
   ]
  },
  {
   "cell_type": "markdown",
   "id": "f488f135-2065-4a84-9b09-48662d9109be",
   "metadata": {},
   "source": [
    "### Actual vs predicted y-values"
   ]
  },
  {
   "cell_type": "code",
   "execution_count": 70,
   "id": "396d1b13-6575-42dd-9160-55254ee127b0",
   "metadata": {
    "scrolled": true
   },
   "outputs": [
    {
     "data": {
      "text/html": [
       "<div>\n",
       "<style scoped>\n",
       "    .dataframe tbody tr th:only-of-type {\n",
       "        vertical-align: middle;\n",
       "    }\n",
       "\n",
       "    .dataframe tbody tr th {\n",
       "        vertical-align: top;\n",
       "    }\n",
       "\n",
       "    .dataframe thead th {\n",
       "        text-align: right;\n",
       "    }\n",
       "</style>\n",
       "<table border=\"1\" class=\"dataframe\">\n",
       "  <thead>\n",
       "    <tr style=\"text-align: right;\">\n",
       "      <th></th>\n",
       "      <th>Actual</th>\n",
       "      <th>Predicted</th>\n",
       "    </tr>\n",
       "  </thead>\n",
       "  <tbody>\n",
       "    <tr>\n",
       "      <th>0</th>\n",
       "      <td>7.50</td>\n",
       "      <td>7.536944</td>\n",
       "    </tr>\n",
       "    <tr>\n",
       "      <th>1</th>\n",
       "      <td>7.33</td>\n",
       "      <td>7.342809</td>\n",
       "    </tr>\n",
       "    <tr>\n",
       "      <th>2</th>\n",
       "      <td>7.33</td>\n",
       "      <td>7.467055</td>\n",
       "    </tr>\n",
       "    <tr>\n",
       "      <th>3</th>\n",
       "      <td>8.17</td>\n",
       "      <td>7.793202</td>\n",
       "    </tr>\n",
       "    <tr>\n",
       "      <th>4</th>\n",
       "      <td>7.58</td>\n",
       "      <td>7.404932</td>\n",
       "    </tr>\n",
       "    <tr>\n",
       "      <th>5</th>\n",
       "      <td>7.67</td>\n",
       "      <td>7.661190</td>\n",
       "    </tr>\n",
       "    <tr>\n",
       "      <th>6</th>\n",
       "      <td>7.33</td>\n",
       "      <td>7.404932</td>\n",
       "    </tr>\n",
       "    <tr>\n",
       "      <th>7</th>\n",
       "      <td>7.17</td>\n",
       "      <td>7.210797</td>\n",
       "    </tr>\n",
       "    <tr>\n",
       "      <th>8</th>\n",
       "      <td>7.08</td>\n",
       "      <td>7.148674</td>\n",
       "    </tr>\n",
       "    <tr>\n",
       "      <th>9</th>\n",
       "      <td>7.42</td>\n",
       "      <td>7.599067</td>\n",
       "    </tr>\n",
       "    <tr>\n",
       "      <th>10</th>\n",
       "      <td>6.75</td>\n",
       "      <td>6.954538</td>\n",
       "    </tr>\n",
       "    <tr>\n",
       "      <th>11</th>\n",
       "      <td>7.83</td>\n",
       "      <td>7.467055</td>\n",
       "    </tr>\n",
       "    <tr>\n",
       "      <th>12</th>\n",
       "      <td>7.75</td>\n",
       "      <td>7.599067</td>\n",
       "    </tr>\n",
       "    <tr>\n",
       "      <th>13</th>\n",
       "      <td>7.50</td>\n",
       "      <td>7.599067</td>\n",
       "    </tr>\n",
       "    <tr>\n",
       "      <th>14</th>\n",
       "      <td>7.58</td>\n",
       "      <td>7.661190</td>\n",
       "    </tr>\n",
       "    <tr>\n",
       "      <th>15</th>\n",
       "      <td>7.50</td>\n",
       "      <td>7.467055</td>\n",
       "    </tr>\n",
       "    <tr>\n",
       "      <th>16</th>\n",
       "      <td>7.58</td>\n",
       "      <td>7.536944</td>\n",
       "    </tr>\n",
       "    <tr>\n",
       "      <th>17</th>\n",
       "      <td>7.75</td>\n",
       "      <td>7.731079</td>\n",
       "    </tr>\n",
       "    <tr>\n",
       "      <th>18</th>\n",
       "      <td>6.92</td>\n",
       "      <td>7.148674</td>\n",
       "    </tr>\n",
       "    <tr>\n",
       "      <th>19</th>\n",
       "      <td>7.50</td>\n",
       "      <td>7.210797</td>\n",
       "    </tr>\n",
       "    <tr>\n",
       "      <th>20</th>\n",
       "      <td>7.33</td>\n",
       "      <td>7.404932</td>\n",
       "    </tr>\n",
       "    <tr>\n",
       "      <th>21</th>\n",
       "      <td>7.67</td>\n",
       "      <td>7.342809</td>\n",
       "    </tr>\n",
       "    <tr>\n",
       "      <th>22</th>\n",
       "      <td>7.58</td>\n",
       "      <td>7.661190</td>\n",
       "    </tr>\n",
       "    <tr>\n",
       "      <th>23</th>\n",
       "      <td>7.50</td>\n",
       "      <td>7.404932</td>\n",
       "    </tr>\n",
       "    <tr>\n",
       "      <th>24</th>\n",
       "      <td>8.00</td>\n",
       "      <td>7.855325</td>\n",
       "    </tr>\n",
       "    <tr>\n",
       "      <th>25</th>\n",
       "      <td>7.42</td>\n",
       "      <td>7.272920</td>\n",
       "    </tr>\n",
       "    <tr>\n",
       "      <th>26</th>\n",
       "      <td>7.25</td>\n",
       "      <td>7.467055</td>\n",
       "    </tr>\n",
       "    <tr>\n",
       "      <th>27</th>\n",
       "      <td>7.67</td>\n",
       "      <td>7.536944</td>\n",
       "    </tr>\n",
       "    <tr>\n",
       "      <th>28</th>\n",
       "      <td>6.50</td>\n",
       "      <td>6.954538</td>\n",
       "    </tr>\n",
       "    <tr>\n",
       "      <th>29</th>\n",
       "      <td>7.58</td>\n",
       "      <td>7.661190</td>\n",
       "    </tr>\n",
       "  </tbody>\n",
       "</table>\n",
       "</div>"
      ],
      "text/plain": [
       "    Actual  Predicted\n",
       "0     7.50   7.536944\n",
       "1     7.33   7.342809\n",
       "2     7.33   7.467055\n",
       "3     8.17   7.793202\n",
       "4     7.58   7.404932\n",
       "5     7.67   7.661190\n",
       "6     7.33   7.404932\n",
       "7     7.17   7.210797\n",
       "8     7.08   7.148674\n",
       "9     7.42   7.599067\n",
       "10    6.75   6.954538\n",
       "11    7.83   7.467055\n",
       "12    7.75   7.599067\n",
       "13    7.50   7.599067\n",
       "14    7.58   7.661190\n",
       "15    7.50   7.467055\n",
       "16    7.58   7.536944\n",
       "17    7.75   7.731079\n",
       "18    6.92   7.148674\n",
       "19    7.50   7.210797\n",
       "20    7.33   7.404932\n",
       "21    7.67   7.342809\n",
       "22    7.58   7.661190\n",
       "23    7.50   7.404932\n",
       "24    8.00   7.855325\n",
       "25    7.42   7.272920\n",
       "26    7.25   7.467055\n",
       "27    7.67   7.536944\n",
       "28    6.50   6.954538\n",
       "29    7.58   7.661190"
      ]
     },
     "execution_count": 70,
     "metadata": {},
     "output_type": "execute_result"
    }
   ],
   "source": [
    "# Create a dataframe comparing the actual and predicted values of y2\n",
    "data_2 = pd.DataFrame({'Actual': y2_test.flatten(), 'Predicted': y2_predicted.flatten()})\n",
    "data_2.head(30)"
   ]
  },
  {
   "cell_type": "markdown",
   "id": "595c05cc-dd67-4341-a75c-71e41efe9f57",
   "metadata": {},
   "source": [
    "##### Comments\n",
    "- The predicted y-values are fairly close to the actual y-values with some over, and some under. "
   ]
  },
  {
   "cell_type": "markdown",
   "id": "b418227a-1271-4b6f-9e10-f3d61b3c8b6c",
   "metadata": {},
   "source": [
    "### Model performance statistics (Training set)"
   ]
  },
  {
   "cell_type": "code",
   "execution_count": 71,
   "id": "03800d7c-9964-4342-be1e-2453746986ee",
   "metadata": {},
   "outputs": [],
   "source": [
    "# Predict\n",
    "y2_predicted_train = regression_2.predict(X2_train)"
   ]
  },
  {
   "cell_type": "code",
   "execution_count": 72,
   "id": "68ec778e-82f8-4d95-af68-8fb9e03f99f8",
   "metadata": {},
   "outputs": [],
   "source": [
    "rmse_2 = mean_squared_error(y2_train, y2_predicted_train)\n",
    "r2_2 = r2_score(y2_train, y2_predicted_train)"
   ]
  },
  {
   "cell_type": "code",
   "execution_count": 73,
   "id": "ce7576d5-84f8-446e-9567-616967836c8e",
   "metadata": {},
   "outputs": [
    {
     "name": "stdout",
     "output_type": "stream",
     "text": [
      "Slope: [[0.77654044]]\n",
      "Mean squared error:  0.029287772376638082\n",
      "R2 score:  0.6660234980676127\n"
     ]
    }
   ],
   "source": [
    "print('Slope:' ,regression_2.coef_)\n",
    "print('Mean squared error: ', rmse_2)\n",
    "print('R2 score: ', r2_2)"
   ]
  },
  {
   "cell_type": "code",
   "execution_count": 74,
   "id": "41a934c2-661a-4e29-825b-9f2a7101b887",
   "metadata": {},
   "outputs": [
    {
     "data": {
      "image/png": "[encoded data removed]",
      "text/plain": [
       "<Figure size 640x480 with 1 Axes>"
      ]
     },
     "metadata": {},
     "output_type": "display_data"
    }
   ],
   "source": [
    "# Visualizing the training set results\n",
    "plot_test_2 = plt\n",
    "plot_test_2.scatter(X2_train, y2_train, color='green', s = 15)\n",
    "plot_test_2.plot(X2_train, y2_predicted_train, color='red', linewidth =3)\n",
    "plot_test_2.title('Aftertaste vs Balance (Train set)')\n",
    "plot_test_2.xlabel('Aftertaste')\n",
    "plot_test_2.ylabel('Balance')\n",
    "plot_test_2.show()"
   ]
  },
  {
   "cell_type": "markdown",
   "id": "91c5d23b-2eea-4a13-a935-c208cd95696a",
   "metadata": {},
   "source": [
    "### Performance\n",
    "- The MSE is low, indicating predictions are close to actual values.\n",
    "- The R2 score indicates that 73.05% of the variance in Balance is explained by Aftertaste.\n",
    "- Overall, the model explains a significant portion of the variance and makes predictions with relatively small errors.\n",
    "- The values between the test and training sets are also closely aligned, which suggests that the model performs consistently."
   ]
  },
  {
   "cell_type": "markdown",
   "id": "0ff476ab-11f9-461b-ab38-a3d272456258",
   "metadata": {},
   "source": [
    "# Tasks"
   ]
  },
  {
   "cell_type": "markdown",
   "id": "291c4565-0a29-47cd-a53c-1f32404748f7",
   "metadata": {},
   "source": [
    "## Install the scikit-learn library."
   ]
  },
  {
   "cell_type": "markdown",
   "id": "05e833da-16bb-424a-b8e6-2919e9b003ee",
   "metadata": {},
   "source": [
    "##### Library installed<br><br>"
   ]
  },
  {
   "cell_type": "markdown",
   "id": "1a6e3b1f-9264-4537-9236-283938ddfcf7",
   "metadata": {},
   "source": [
    "## Import the libraries you need into a new notebook, including any necessary modules from scikit-learn."
   ]
  },
  {
   "cell_type": "markdown",
   "id": "bc24057e-82be-4de9-913a-2ae72d437423",
   "metadata": {},
   "source": [
    "##### Refer 1: Importing libraries<br><br>"
   ]
  },
  {
   "cell_type": "markdown",
   "id": "e667f057-cd5b-47d1-9730-ec0a415dc559",
   "metadata": {},
   "source": [
    "## Clean your data so that it’s ready for analysis."
   ]
  },
  {
   "cell_type": "markdown",
   "id": "9ae39b8c-04a1-4412-92ee-4283b4040813",
   "metadata": {},
   "source": [
    "##### Refer 4: Cleaning data<br><br>"
   ]
  },
  {
   "cell_type": "markdown",
   "id": "e730e9cd-4ba8-4a6a-bed2-73415f401bbc",
   "metadata": {},
   "source": [
    "## Explore your data visually (e.g., by way of a scatterplot), looking for variables whose relationship you’d like to test."
   ]
  },
  {
   "cell_type": "markdown",
   "id": "90f19b3d-0ba9-4132-86ab-f8cb5b69fe58",
   "metadata": {},
   "source": [
    "##### Refer 5 Visual exploration<br><br>"
   ]
  },
  {
   "cell_type": "markdown",
   "id": "4330f3af-acca-402d-b5eb-2cade7714d58",
   "metadata": {},
   "source": [
    "## State your hypothesis in a markdown cell within your Jupyter notebook."
   ]
  },
  {
   "cell_type": "markdown",
   "id": "c0892d77-4927-4924-bd35-f1a5eb6a9826",
   "metadata": {},
   "source": [
    "##### Refer 6: Hypotheses<br><br>"
   ]
  },
  {
   "cell_type": "markdown",
   "id": "2481e2f9-9f3e-4707-b81e-dacd34a78aaa",
   "metadata": {},
   "source": [
    "## Reshape the variables into NumPy arrays, with X being the independent variable and y being the dependent variable."
   ]
  },
  {
   "cell_type": "markdown",
   "id": "e435eb99-7b54-411c-91fd-f7ad63b3e398",
   "metadata": {},
   "source": [
    "##### Refer 6.1.1: Reshape variables (Hypothesis #1)\n",
    "##### Refer 6.2.1: Reshape variables (Hypothesis #2)<br><br>"
   ]
  },
  {
   "cell_type": "markdown",
   "id": "013fc592-9c6b-41ea-801a-49e5b7068033",
   "metadata": {},
   "source": [
    "## Split the data into two sets: a training set and a test set."
   ]
  },
  {
   "cell_type": "markdown",
   "id": "c568cb81-5edd-4e09-831b-d2a08754099d",
   "metadata": {},
   "source": [
    "##### Refer 6.1.2: Split data (Hypothesis #1)\n",
    "##### Refer 6.2.2: Split data (Hypothesis #2)<br><br>"
   ]
  },
  {
   "cell_type": "markdown",
   "id": "f44f809c-c320-42d1-a2c4-15395cd80c74",
   "metadata": {},
   "source": [
    "## Run a linear regression on the data.\n",
    "- First, fit the model you created to the training set.\n",
    "- Then, create a prediction for y on the test set."
   ]
  },
  {
   "cell_type": "markdown",
   "id": "90ce8a1f-007f-43e6-ba41-1d3990d42fc0",
   "metadata": {},
   "source": [
    "##### Refer 6.1.3: Linear regression (Hypothesis #1)\n",
    "##### Refer 6.2.3: Linear regression (Hypothesis #2)<br><br>"
   ]
  },
  {
   "cell_type": "markdown",
   "id": "4e5d5cee-59eb-4bd2-a867-662056e4a9d9",
   "metadata": {},
   "source": [
    "## Create a plot that shows the regression line on the test set."
   ]
  },
  {
   "cell_type": "markdown",
   "id": "84172858-d3f1-4b3f-b323-627298fa26cd",
   "metadata": {},
   "source": [
    "##### Refer 6.1.4: Regression plot (Hypothesis #1)\n",
    "##### Refer 6.2.4: Regression plot (Hypothesis #2)<br><br>"
   ]
  },
  {
   "cell_type": "markdown",
   "id": "7f328273-e4fc-4b17-8953-c4b93aec6ad4",
   "metadata": {},
   "source": [
    "## Write your own interpretation of how well the line appears to fit the data in a markdown cell."
   ]
  },
  {
   "cell_type": "markdown",
   "id": "b71f9400-d567-4aca-a8d7-bc84464e9ee1",
   "metadata": {},
   "source": [
    "##### Refer 6.1.4: Regression plot - Markdown (Hypothesis #1)\n",
    "##### Refer 6.2.4: Regression plot - Markdown (Hypothesis #2)<br><br>"
   ]
  },
  {
   "cell_type": "markdown",
   "id": "ef6ffcea-513e-4d0b-ad4b-c9268ecd0f20",
   "metadata": {},
   "source": [
    "## Check the model performance statistics—MSE and R2 score."
   ]
  },
  {
   "cell_type": "markdown",
   "id": "a877a062-bb11-44cd-a144-52a530704bc7",
   "metadata": {},
   "source": [
    "##### Refer 6.1.5: Model performance statistics (Test set) (Hypothesis #1)\n",
    "##### Refer 6.1.7: Model performance statistics (Training set) (Hypothesis #1)<br><br>\n",
    "##### Refer 6.2.5: Model performance statistics (Test set) (Hypothesis #2)\n",
    "##### Refer 6.2.7: Model performance statistics (Training set) (Hypothesis #2)<br><br>"
   ]
  },
  {
   "cell_type": "markdown",
   "id": "f93a452f-f333-4a87-9c04-beda581ad4da",
   "metadata": {},
   "source": [
    "## Compare the predicted y values with the actual y values in a dataframe."
   ]
  },
  {
   "cell_type": "markdown",
   "id": "79ca6c6b-9970-4481-ac01-a7e11d186c45",
   "metadata": {},
   "source": [
    "##### Refer 6.1.6: Actual vs predicted y-values - Markdown (Hypothesis #1)\n",
    "##### Refer 6.2.6: Actual vs predicted y-values - Markdown (Hypothesis #2)<br><br>"
   ]
  },
  {
   "cell_type": "markdown",
   "id": "b4dad510-940c-4d68-9103-5481a5489e01",
   "metadata": {},
   "source": [
    "## Include your thoughts on how well the model performed on the test set in a markdown cell.\n",
    "- Include any reflections you have on the impact of possible data bias."
   ]
  },
  {
   "cell_type": "markdown",
   "id": "8749618e-8694-4d72-a109-2f29038dd443",
   "metadata": {},
   "source": [
    "##### Refer 6.1.8: Performance (Hypothesis #1)\n",
    "##### Refer 6.2.8: Performance (Hypothesis #2)<br><br>"
   ]
  },
  {
   "cell_type": "markdown",
   "id": "0d10288e-ff3e-44cf-bd60-d48b09b9c915",
   "metadata": {},
   "source": [
    "## Save your notebook and submit it for your tutor to review."
   ]
  },
  {
   "cell_type": "markdown",
   "id": "274369c4-a7b0-454c-b712-e4c4781b45b5",
   "metadata": {},
   "source": [
    "##### Notebook saved and submitted<br><br>"
   ]
  }
 ],
 "metadata": {
  "kernelspec": {
   "display_name": "Python 3 (ipykernel)",
   "language": "python",
   "name": "python3"
  },
  "language_info": {
   "codemirror_mode": {
    "name": "ipython",
    "version": 3
   },
   "file_extension": ".py",
   "mimetype": "text/x-python",
   "name": "python",
   "nbconvert_exporter": "python",
   "pygments_lexer": "ipython3",
   "version": "3.12.7"
  }
 },
 "nbformat": 4,
 "nbformat_minor": 5
}
